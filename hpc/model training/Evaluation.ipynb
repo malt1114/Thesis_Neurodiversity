{
 "cells": [
  {
   "cell_type": "code",
   "execution_count": 55,
   "id": "3ad8c077",
   "metadata": {},
   "outputs": [],
   "source": [
    "from models.GCN import GCN\n",
    "from models.GAT import GATFLAT\n",
    "from help_funcs.data_func import load_dataset\n",
    "from help_funcs.param import get_loss_function\n",
    "import yaml\n",
    "import torch\n",
    "from torch_geometric.loader import DataLoader\n",
    "from sklearn.metrics import f1_score\n"
   ]
  },
  {
   "cell_type": "code",
   "execution_count": 85,
   "id": "dc185eb1",
   "metadata": {},
   "outputs": [],
   "source": [
    "def make_interference(data, model, loss_name, loss_func):\n",
    "    val_loss = 0\n",
    "    all_predictions = []\n",
    "    all_labels = []\n",
    "    y_score = []\n",
    "    for batch in data:\n",
    "        x, edge_index, edge_weight, structure = batch.x, batch.edge_index, batch.edge_attr, batch.batch\n",
    "        y_hat = model.forward(x, edge_index, edge_weight, structure)\n",
    "        y_score += y_hat.tolist()\n",
    "        \n",
    "        y = batch.y\n",
    "        if loss_name == 'BCE':\n",
    "            y = y.float()\n",
    "            y_hat = y_hat.squeeze(1)\n",
    "        y = y\n",
    "\n",
    "        loss = loss_func(y_hat, y)\n",
    "        val_loss += loss\n",
    "\n",
    "        if loss_name == 'BCE':\n",
    "            all_predictions += y_hat.round().tolist()\n",
    "        else:\n",
    "            all_predictions += torch.argmax(y_hat, dim=-1).tolist()\n",
    "        all_labels += batch.y.tolist()\n",
    "\n",
    "    return val_loss/len(data), f1_score(all_labels, all_predictions, average='micro'), y_score, all_labels"
   ]
  },
  {
   "cell_type": "markdown",
   "id": "17f14aec",
   "metadata": {},
   "source": [
    "# GCN Multi-class"
   ]
  },
  {
   "cell_type": "markdown",
   "id": "665231ba",
   "metadata": {},
   "source": [
    "### Hyperparameters"
   ]
  },
  {
   "cell_type": "code",
   "execution_count": 57,
   "id": "849712ab",
   "metadata": {},
   "outputs": [],
   "source": [
    "with open(\"saved_models/GCN_Multi_absolute_weights.yaml\", 'r') as file:\n",
    "    gcn_multi = yaml.safe_load(file)"
   ]
  },
  {
   "cell_type": "markdown",
   "id": "472f7888",
   "metadata": {},
   "source": [
    "### Load data"
   ]
  },
  {
   "cell_type": "code",
   "execution_count": 58,
   "id": "5517dfd2",
   "metadata": {},
   "outputs": [],
   "source": [
    "train_data = load_dataset(dataset = 'train', \n",
    "                        num_of_classes = gcn_multi['num_of_classes']['value'],\n",
    "                        feature_names = gcn_multi['feature_names']['value'],\n",
    "                        edge_names = gcn_multi['edge_names']['value'],\n",
    "                        edge_w_thres = gcn_multi['edge_w_thres']['value'],\n",
    "                        drop_strategy = None,\n",
    "                        edge_w_abs = gcn_multi['edge_w_abs']['value'],\n",
    "                        GAT = False\n",
    "                                )\n",
    "val_data = load_dataset(dataset = 'val', \n",
    "                        num_of_classes = gcn_multi['num_of_classes']['value'],\n",
    "                        feature_names = gcn_multi['feature_names']['value'],\n",
    "                        edge_names = gcn_multi['edge_names']['value'],\n",
    "                        edge_w_thres = gcn_multi['edge_w_thres']['value'],\n",
    "                        drop_strategy = None,\n",
    "                        edge_w_abs = gcn_multi['edge_w_abs']['value'],\n",
    "                        GAT = False\n",
    "                                )\n",
    "test_data = load_dataset(dataset = 'test', \n",
    "                        num_of_classes = gcn_multi['num_of_classes']['value'],\n",
    "                        feature_names = gcn_multi['feature_names']['value'],\n",
    "                        edge_names = gcn_multi['edge_names']['value'],\n",
    "                        edge_w_thres = gcn_multi['edge_w_thres']['value'],\n",
    "                        drop_strategy = None,\n",
    "                        edge_w_abs = gcn_multi['edge_w_abs']['value'],\n",
    "                        GAT = False\n",
    "                                )\n",
    "\n",
    "train_loader = DataLoader(train_data, \n",
    "                          batch_size=gcn_multi['batch_size']['value'])\n",
    "                            \n",
    "val_loader = DataLoader(val_data, \n",
    "                         batch_size=gcn_multi['batch_size']['value'])\n",
    "\n",
    "test_loader = DataLoader(test_data, \n",
    "                         batch_size=gcn_multi['batch_size']['value'])"
   ]
  },
  {
   "cell_type": "markdown",
   "id": "656696d9",
   "metadata": {},
   "source": [
    "### Load model + parameters"
   ]
  },
  {
   "cell_type": "code",
   "execution_count": 63,
   "id": "6d240712",
   "metadata": {},
   "outputs": [
    {
     "name": "stdout",
     "output_type": "stream",
     "text": [
      "train loss: 0.9906559586524963 f1:0.5782312925170068\n",
      "val loss: 1.040687918663025 f1:0.4444444444444444\n",
      "test loss: 1.299743890762329 f1:0.42857142857142855\n"
     ]
    }
   ],
   "source": [
    "gcn_multi_model = GCN(in_ = gcn_multi['num_of_features']['value'], \n",
    "                      out_ = gcn_multi['num_of_classes']['value'], \n",
    "                      layer_1_out = gcn_multi['hidden_channels_1']['value'], \n",
    "                      dropout_rate = gcn_multi['dropout']['value'], \n",
    "                      activation_ = gcn_multi['activation']['value'], \n",
    "                      pool_ = gcn_multi['pool']['value'], \n",
    "                      norm_ = gcn_multi['layer_norm']['value'], \n",
    "                      out_func_ = gcn_multi['loss_name']['value'], \n",
    "                      random_seed = gcn_multi['random_seed']['value'])\n",
    "gcn_multi_model.load_state_dict(torch.load(\"saved_models/GCN_Multi_absolute_weights_434.pt\", weights_only=True, map_location=torch.device('cpu')))\n",
    "gcn_multi_model.eval()\n",
    "loss_func = get_loss_function(gcn_multi['loss_name']['value'])\n",
    "\n",
    "for n, d in [('train', train_loader), ('val', val_loader), ('test', test_loader)]:\n",
    "    l, f1 = make_interference(data = d,\n",
    "                          model = gcn_multi_model, \n",
    "                          loss_name = gcn_multi['loss_name']['value'], \n",
    "                          loss_func = loss_func)\n",
    "    print(f\"{n} loss: {l} f1:{f1}\")"
   ]
  },
  {
   "cell_type": "markdown",
   "id": "75496b6a",
   "metadata": {},
   "source": [
    "# GCN Binary-class"
   ]
  },
  {
   "cell_type": "markdown",
   "id": "bff1a51d",
   "metadata": {},
   "source": [
    "### Hyperparameters"
   ]
  },
  {
   "cell_type": "code",
   "execution_count": 67,
   "id": "e6652e14",
   "metadata": {},
   "outputs": [],
   "source": [
    "with open(\"saved_models/GCN_Binary_absolute_weights.yaml\", 'r') as file:\n",
    "    gcn_binary = yaml.safe_load(file)"
   ]
  },
  {
   "cell_type": "code",
   "execution_count": 68,
   "id": "db2595f9",
   "metadata": {},
   "outputs": [],
   "source": [
    "train_data = load_dataset(dataset = 'train', \n",
    "                        num_of_classes = gcn_binary['num_of_classes']['value'],\n",
    "                        feature_names = gcn_binary['feature_names']['value'],\n",
    "                        edge_names = gcn_binary['edge_names']['value'],\n",
    "                        edge_w_thres = gcn_binary['edge_w_thres']['value'],\n",
    "                        drop_strategy = None,\n",
    "                        edge_w_abs = gcn_binary['edge_w_abs']['value'],\n",
    "                        GAT = False\n",
    "                                )\n",
    "val_data = load_dataset(dataset = 'val', \n",
    "                        num_of_classes = gcn_binary['num_of_classes']['value'],\n",
    "                        feature_names = gcn_binary['feature_names']['value'],\n",
    "                        edge_names = gcn_binary['edge_names']['value'],\n",
    "                        edge_w_thres = gcn_binary['edge_w_thres']['value'],\n",
    "                        drop_strategy = None,\n",
    "                        edge_w_abs = gcn_binary['edge_w_abs']['value'],\n",
    "                        GAT = False\n",
    "                                )\n",
    "test_data = load_dataset(dataset = 'test', \n",
    "                        num_of_classes = gcn_binary['num_of_classes']['value'],\n",
    "                        feature_names = gcn_binary['feature_names']['value'],\n",
    "                        edge_names = gcn_binary['edge_names']['value'],\n",
    "                        edge_w_thres = gcn_binary['edge_w_thres']['value'],\n",
    "                        drop_strategy = None,\n",
    "                        edge_w_abs = gcn_binary['edge_w_abs']['value'],\n",
    "                        GAT = False\n",
    "                                )\n",
    "\n",
    "train_loader = DataLoader(train_data, \n",
    "                          batch_size=gcn_binary['batch_size']['value'])\n",
    "                            \n",
    "val_loader = DataLoader(val_data, \n",
    "                         batch_size=gcn_binary['batch_size']['value'])\n",
    "\n",
    "test_loader = DataLoader(test_data, \n",
    "                         batch_size=gcn_binary['batch_size']['value'])"
   ]
  },
  {
   "cell_type": "code",
   "execution_count": 69,
   "id": "91ea8b88",
   "metadata": {},
   "outputs": [
    {
     "name": "stdout",
     "output_type": "stream",
     "text": [
      "train loss: 0.5626474618911743 f1:0.6938775510204082\n",
      "val loss: 0.6043192744255066 f1:0.654320987654321\n",
      "test loss: 0.7038617134094238 f1:0.6103896103896104\n"
     ]
    }
   ],
   "source": [
    "gcn_binary_model = GCN(in_ = gcn_binary['num_of_features']['value'], \n",
    "                      out_ = gcn_binary['num_of_classes']['value']-1, \n",
    "                      layer_1_out = gcn_binary['hidden_channels_1']['value'], \n",
    "                      dropout_rate = gcn_binary['dropout']['value'], \n",
    "                      activation_ = gcn_binary['activation']['value'], \n",
    "                      pool_ = gcn_binary['pool']['value'], \n",
    "                      norm_ = gcn_binary['layer_norm']['value'], \n",
    "                      out_func_ = gcn_binary['loss_name']['value'], \n",
    "                      random_seed = gcn_binary['random_seed']['value'])\n",
    "gcn_binary_model.load_state_dict(torch.load(\"saved_models/GCN_Binary_absolute_weights_301.pt\", weights_only=True, map_location=torch.device('cpu')))\n",
    "gcn_binary_model.eval()\n",
    "loss_func = get_loss_function(gcn_binary['loss_name']['value'])\n",
    "\n",
    "for n, d in [('train', train_loader), ('val', val_loader), ('test', test_loader)]:\n",
    "    l, f1 = make_interference(data = d,\n",
    "                            model = gcn_binary_model, \n",
    "                            loss_name = gcn_binary['loss_name']['value'], \n",
    "                            loss_func = loss_func)\n",
    "    print(f\"{n} loss: {l} f1:{f1}\")\n"
   ]
  },
  {
   "cell_type": "markdown",
   "id": "d4c8516c",
   "metadata": {},
   "source": [
    "# GAT Multi-class"
   ]
  },
  {
   "cell_type": "code",
   "execution_count": 70,
   "id": "f212799b",
   "metadata": {},
   "outputs": [],
   "source": [
    "with open(\"saved_models/GAT_Multi_absolute_value_and_threshold.yaml\", 'r') as file:\n",
    "    gat_multi = yaml.safe_load(file)\n",
    "    \n",
    "train_data = load_dataset(dataset = 'train', \n",
    "                        num_of_classes = gat_multi['num_of_classes']['value'],\n",
    "                        feature_names = gat_multi['feature_names']['value'],\n",
    "                        edge_names = gat_multi['edge_names']['value'],\n",
    "                        edge_w_thres = gat_multi['edge_w_thres']['value'],\n",
    "                        drop_strategy = None,\n",
    "                        edge_w_abs = gat_multi['edge_w_abs']['value'],\n",
    "                        GAT = True\n",
    "                                )\n",
    "val_data = load_dataset(dataset = 'val', \n",
    "                        num_of_classes = gat_multi['num_of_classes']['value'],\n",
    "                        feature_names = gat_multi['feature_names']['value'],\n",
    "                        edge_names = gat_multi['edge_names']['value'],\n",
    "                        edge_w_thres = gat_multi['edge_w_thres']['value'],\n",
    "                        drop_strategy = None,\n",
    "                        edge_w_abs = gat_multi['edge_w_abs']['value'],\n",
    "                        GAT = True\n",
    "                                )\n",
    "test_data = load_dataset(dataset = 'test', \n",
    "                        num_of_classes = gat_multi['num_of_classes']['value'],\n",
    "                        feature_names = gat_multi['feature_names']['value'],\n",
    "                        edge_names = gat_multi['edge_names']['value'],\n",
    "                        edge_w_thres = gat_multi['edge_w_thres']['value'],\n",
    "                        drop_strategy = None,\n",
    "                        edge_w_abs = gat_multi['edge_w_abs']['value'],\n",
    "                        GAT = True\n",
    "                                )\n",
    "\n",
    "train_loader = DataLoader(train_data, \n",
    "                          batch_size=gat_multi['batch_size']['value'])\n",
    "                            \n",
    "val_loader = DataLoader(val_data, \n",
    "                         batch_size=gat_multi['batch_size']['value'])\n",
    "\n",
    "test_loader = DataLoader(test_data, \n",
    "                         batch_size=gat_multi['batch_size']['value'])"
   ]
  },
  {
   "cell_type": "code",
   "execution_count": 71,
   "id": "8672e54f",
   "metadata": {},
   "outputs": [
    {
     "name": "stdout",
     "output_type": "stream",
     "text": [
      "concat:True, norm_dim: 128\n",
      "concat:True, norm_dim: 128\n",
      "train loss: 0.9142971634864807 f1:0.5782312925170068\n",
      "val loss: 0.9799020886421204 f1:0.5679012345679012\n",
      "test loss: 1.43928062915802 f1:0.37662337662337664\n"
     ]
    }
   ],
   "source": [
    "gat_multi_model = GATFLAT(in_ = gat_multi['num_of_features']['value'], \n",
    "                            out_ = gat_multi['num_of_classes']['value'], \n",
    "                            layer_1_out = gat_multi['hidden_channels_1']['value'], \n",
    "                            dropout_rate = gat_multi['dropout']['value'], \n",
    "                            activation_ = gat_multi['activation']['value'], \n",
    "                            heads_ = gat_multi['att_heads']['value'], \n",
    "                            norm_ = gat_multi['layer_norm']['value'], \n",
    "                            out_func_ = gat_multi['loss_name']['value'], \n",
    "                            random_seed = gat_multi['random_seed']['value'])\n",
    "                            \n",
    "gat_multi_model.load_state_dict(torch.load(\"saved_models/GAT_Multi_absolute_value_and_threshold_329.pt\", weights_only=True, map_location=torch.device('cpu')))\n",
    "gat_multi_model.eval()\n",
    "loss_func = get_loss_function(gat_multi['loss_name']['value'])\n",
    "\n",
    "for n, d in [('train', train_loader), ('val', val_loader), ('test', test_loader)]:\n",
    "    l, f1 = make_interference(data = d,\n",
    "                            model = gat_multi_model, \n",
    "                            loss_name = gat_multi['loss_name']['value'], \n",
    "                            loss_func = loss_func)\n",
    "    print(f\"{n} loss: {l} f1:{f1}\")"
   ]
  },
  {
   "cell_type": "markdown",
   "id": "2ae35d53",
   "metadata": {},
   "source": [
    "# GAT Binary"
   ]
  },
  {
   "cell_type": "code",
   "execution_count": 72,
   "id": "7b1a52ab",
   "metadata": {},
   "outputs": [],
   "source": [
    "with open(\"saved_models/GAT_Binary_absolute_value_and_threshold.yaml\", 'r') as file:\n",
    "    gat_binary = yaml.safe_load(file)\n",
    "    \n",
    "train_data = load_dataset(dataset = 'train', \n",
    "                        num_of_classes = gat_binary['num_of_classes']['value'],\n",
    "                        feature_names = gat_binary['feature_names']['value'],\n",
    "                        edge_names = gat_binary['edge_names']['value'],\n",
    "                        edge_w_thres = gat_binary['edge_w_thres']['value'],\n",
    "                        drop_strategy = None,\n",
    "                        edge_w_abs = gat_binary['edge_w_abs']['value'],\n",
    "                        GAT = True\n",
    "                                )\n",
    "val_data = load_dataset(dataset = 'val', \n",
    "                        num_of_classes = gat_binary['num_of_classes']['value'],\n",
    "                        feature_names = gat_binary['feature_names']['value'],\n",
    "                        edge_names = gat_binary['edge_names']['value'],\n",
    "                        edge_w_thres = gat_binary['edge_w_thres']['value'],\n",
    "                        drop_strategy = None,\n",
    "                        edge_w_abs = gat_binary['edge_w_abs']['value'],\n",
    "                        GAT = True\n",
    "                                )\n",
    "test_data = load_dataset(dataset = 'test', \n",
    "                        num_of_classes = gat_binary['num_of_classes']['value'],\n",
    "                        feature_names = gat_binary['feature_names']['value'],\n",
    "                        edge_names = gat_binary['edge_names']['value'],\n",
    "                        edge_w_thres = gat_binary['edge_w_thres']['value'],\n",
    "                        drop_strategy = None,\n",
    "                        edge_w_abs = gat_binary['edge_w_abs']['value'],\n",
    "                        GAT = True\n",
    "                                )\n",
    "\n",
    "train_loader = DataLoader(train_data, \n",
    "                          batch_size=gat_binary['batch_size']['value'])\n",
    "                            \n",
    "val_loader = DataLoader(val_data, \n",
    "                         batch_size=gat_binary['batch_size']['value'])\n",
    "\n",
    "test_loader = DataLoader(test_data, \n",
    "                         batch_size=gat_binary['batch_size']['value'])"
   ]
  },
  {
   "cell_type": "code",
   "execution_count": 95,
   "id": "1fe7f01b",
   "metadata": {},
   "outputs": [
    {
     "name": "stdout",
     "output_type": "stream",
     "text": [
      "concat:True, norm_dim: 256\n",
      "concat:True, norm_dim: 256\n",
      "train loss: 0.5343753695487976 f1:0.7233560090702947\n"
     ]
    }
   ],
   "source": [
    "gat_binary_model = GATFLAT(in_ = gat_binary['num_of_features']['value'], \n",
    "                            out_ = gat_binary['num_of_classes']['value']-1, \n",
    "                            layer_1_out = gat_binary['hidden_channels_1']['value'], \n",
    "                            dropout_rate = gat_binary['dropout']['value'], \n",
    "                            activation_ = gat_binary['activation']['value'], \n",
    "                            heads_ = gat_binary['att_heads']['value'], \n",
    "                            norm_ = gat_binary['layer_norm']['value'], \n",
    "                            out_func_ = gat_binary['loss_name']['value'], \n",
    "                            random_seed = gat_binary['random_seed']['value'])\n",
    "                            \n",
    "gat_binary_model.load_state_dict(torch.load(\"saved_models/GAT_Binary_absolute_value_and_threshold_394.pt\", weights_only=True, map_location=torch.device('cpu')))\n",
    "gat_binary_model.eval()\n",
    "loss_func = get_loss_function(gat_binary['loss_name']['value'])\n",
    "\n",
    "for n, d in [('train', train_loader)]:#, ('val', val_loader), ('test', test_loader)]:\n",
    "    l, f1, y_score, y = make_interference(data = d,\n",
    "                                            model = gat_binary_model, \n",
    "                                            loss_name = gat_binary['loss_name']['value'], \n",
    "                                            loss_func = loss_func)\n",
    "    print(f\"{n} loss: {l} f1:{f1}\")"
   ]
  },
  {
   "cell_type": "code",
   "execution_count": 106,
   "id": "f61214c5",
   "metadata": {},
   "outputs": [
    {
     "data": {
      "image/png": "[encoded data removed]",
      "text/plain": [
       "<Figure size 640x480 with 1 Axes>"
      ]
     },
     "metadata": {},
     "output_type": "display_data"
    }
   ],
   "source": [
    "from sklearn import metrics\n",
    "import numpy as np\n",
    "import matplotlib.pyplot as plt\n",
    "\n",
    "fpr, tpr, thresholds = metrics.roc_curve(y, y_score, pos_label=0)\n",
    "\n",
    "# Print ROC curve\n",
    "plt.plot(tpr, fpr)\n",
    "plt.show() "
   ]
  },
  {
   "cell_type": "code",
   "execution_count": null,
   "id": "54dbc35e",
   "metadata": {},
   "outputs": [],
   "source": []
  }
 ],
 "metadata": {
  "kernelspec": {
   "display_name": "thesis",
   "language": "python",
   "name": "python3"
  },
  "language_info": {
   "codemirror_mode": {
    "name": "ipython",
    "version": 3
   },
   "file_extension": ".py",
   "mimetype": "text/x-python",
   "name": "python",
   "nbconvert_exporter": "python",
   "pygments_lexer": "ipython3",
   "version": "3.10.18"
  }
 },
 "nbformat": 4,
 "nbformat_minor": 5
}
