{
 "cells": [
  {
   "cell_type": "code",
   "execution_count": 1,
   "id": "83196d26",
   "metadata": {},
   "outputs": [],
   "source": [
    "import pandas as pd\n",
    "import networkx as nx\n",
    "import math\n",
    "import os\n",
    "os.chdir('..')"
   ]
  },
  {
   "cell_type": "code",
   "execution_count": 3,
   "id": "15733b6d",
   "metadata": {},
   "outputs": [],
   "source": [
    "def create_network(path):\n",
    "    network = nx.read_gml(path)\n",
    "\n",
    "    new_network = nx.Graph()\n",
    "\n",
    "    new_edges = []\n",
    "    for u,v in set(network.edges()):\n",
    "        new_edge = [u,v,{}]\n",
    "        for name, value in network[u][v].items():\n",
    "            if value['feature_name']:\n",
    "                new_edge[-1][value['feature_name']] = value['feature_value']\n",
    "        new_edges.append(new_edge)\n",
    "\n",
    "    for n in network.nodes(data=True):\n",
    "        new_network.add_node(n[0], **n[1])\n",
    "\n",
    "    new_network.add_edges_from(new_edges)\n",
    "    return new_network"
   ]
  },
  {
   "cell_type": "code",
   "execution_count": 6,
   "id": "5847319e",
   "metadata": {},
   "outputs": [],
   "source": [
    "#Transform all networks\n",
    "file_list = [f for f in os.listdir('data.nosync/networks_multi/') if '.gml' in f ]\n",
    "for i in file_list:\n",
    "   G = create_network(f\"data.nosync/networks_multi/{i}\")\n",
    "   nx.write_gml(G, f\"data.nosync/networks_multi_gat/{i}\")"
   ]
  },
  {
   "cell_type": "code",
   "execution_count": null,
   "id": "f6167b66",
   "metadata": {},
   "outputs": [],
   "source": [
    "#Transfrom datasets\n",
    "for s in ['train', 'test', 'val']:\n",
    "    file_data = pd.read_csv(f'data.nosync/networks_multi/{s}_set_files.csv')\n",
    "    files = file_data['file'].to_list()\n",
    "\n",
    "    file_data['file'] = file_data['file'].apply(lambda x: x.replace('networks_multi', 'networks_multi_gat'))\n",
    "    \n",
    "    for i in files:\n",
    "        G = create_network(i)\n",
    "        nx.write_gml(G, i.replace('networks_multi', 'networks_multi_gat'))\n",
    "\n",
    "    file_data.to_csv(f'data.nosync/networks_multi_gat/{s}_set_files.csv',index= False)\n"
   ]
  },
  {
   "cell_type": "code",
   "execution_count": null,
   "id": "5214a75b",
   "metadata": {},
   "outputs": [],
   "source": []
  }
 ],
 "metadata": {
  "kernelspec": {
   "display_name": "thesis",
   "language": "python",
   "name": "python3"
  },
  "language_info": {
   "codemirror_mode": {
    "name": "ipython",
    "version": 3
   },
   "file_extension": ".py",
   "mimetype": "text/x-python",
   "name": "python",
   "nbconvert_exporter": "python",
   "pygments_lexer": "ipython3",
   "version": "3.10.18"
  }
 },
 "nbformat": 4,
 "nbformat_minor": 5
}
