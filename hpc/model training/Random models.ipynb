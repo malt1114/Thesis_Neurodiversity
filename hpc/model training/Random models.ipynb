{
 "cells": [
  {
   "cell_type": "code",
   "execution_count": 1,
   "id": "3ad8c077",
   "metadata": {},
   "outputs": [],
   "source": [
    "import numpy as np\n",
    "import pandas as pd\n",
    "import matplotlib.pyplot as plt\n",
    "from sklearn.dummy import DummyClassifier\n",
    "from sklearn.metrics import f1_score, log_loss, accuracy_score"
   ]
  },
  {
   "cell_type": "markdown",
   "id": "12c3098c",
   "metadata": {},
   "source": [
    "# Functions"
   ]
  },
  {
   "cell_type": "code",
   "execution_count": 7,
   "id": "d8fa60b6",
   "metadata": {},
   "outputs": [],
   "source": [
    "def load_dummy_data(dataset:str, binary:bool = False):\n",
    "    data = pd.read_csv(f'data.nosync/networks_multi/{dataset}_set_files.csv')\n",
    "    data['class'] = data['file'].apply(lambda x: x.split('/')[-1].split('_')[3])\n",
    "    if binary:\n",
    "        data['class'] = data['class'].replace({'ADHD': 'Non-TD',\n",
    "                                               'ASD-ADHD': 'Non-TD',\n",
    "                                               'ASD': 'Non-TD'})\n",
    "    return data['class'].to_list()\n",
    "\n",
    "def train_dummy(train_set:list, strategy:str):\n",
    "    dummy_clf = DummyClassifier(strategy=strategy, random_state= 42)\n",
    "    dummy_clf.fit(train_set, train_set)\n",
    "    return dummy_clf\n",
    "\n",
    "def train_get_stats(binary, strategy):\n",
    "    train_data = load_dummy_data(dataset = 'train', binary = binary)\n",
    "    val_data = load_dummy_data(dataset = 'val', binary = binary)\n",
    "    test_data = load_dummy_data(dataset = 'test', binary = binary)\n",
    "\n",
    "    clf = train_dummy(train_set = train_data, strategy = strategy)\n",
    "    \n",
    "    predicted_y_train = clf.predict(train_data)\n",
    "    prob_y_train = clf.predict_proba(train_data)\n",
    "    print(f\"Train - Loss {round(log_loss(train_data, prob_y_train), 2)}, Accuracy: {round(accuracy_score(predicted_y_train, train_data)*100,2)}, F1-score: {round(f1_score(predicted_y_train, train_data, average='macro'), 2)}\")\n",
    "\n",
    "    predicted_y_val = clf.predict(val_data)\n",
    "    prob_y_val = clf.predict_proba(val_data)\n",
    "    print(f\"Valdiation - Loss {round(log_loss(val_data, prob_y_val), 2)}, Accuracy: {round(accuracy_score(predicted_y_val, val_data)*100,2)}, F1-score: {round(f1_score(predicted_y_val, val_data, average='macro'), 2)}\")\n",
    "\n",
    "    predicted_y_test = clf.predict(test_data)\n",
    "    prob_y_test = clf.predict_proba(test_data)\n",
    "    print(f\"Test - Loss {round(log_loss(test_data, prob_y_test), 2)}, Accuracy: {round(accuracy_score(predicted_y_test, test_data)*100,2)}, F1-score: {round(f1_score(predicted_y_test, test_data, average='macro'), 2)}\")\n"
   ]
  },
  {
   "cell_type": "code",
   "execution_count": 8,
   "id": "19d476e3",
   "metadata": {},
   "outputs": [
    {
     "name": "stdout",
     "output_type": "stream",
     "text": [
      "Train - Loss 1.39, Accuracy: 25.4, F1-score: 0.21\n",
      "Valdiation - Loss 1.39, Accuracy: 19.75, F1-score: 0.18\n",
      "Test - Loss 1.39, Accuracy: 19.48, F1-score: 0.16\n"
     ]
    }
   ],
   "source": [
    "train_get_stats(binary = False, strategy = 'uniform')"
   ]
  },
  {
   "cell_type": "code",
   "execution_count": 9,
   "id": "73bb2fd1",
   "metadata": {},
   "outputs": [
    {
     "name": "stdout",
     "output_type": "stream",
     "text": [
      "Train - Loss 1.13, Accuracy: 49.21, F1-score: 0.16\n",
      "Valdiation - Loss 1.2, Accuracy: 39.51, F1-score: 0.14\n",
      "Test - Loss 1.2, Accuracy: 41.56, F1-score: 0.15\n"
     ]
    }
   ],
   "source": [
    "train_get_stats(binary = False, strategy = 'prior')"
   ]
  },
  {
   "cell_type": "code",
   "execution_count": 10,
   "id": "2120c178",
   "metadata": {},
   "outputs": [
    {
     "name": "stdout",
     "output_type": "stream",
     "text": [
      "Train - Loss 0.69, Accuracy: 48.53, F1-score: 0.49\n",
      "Valdiation - Loss 0.69, Accuracy: 45.68, F1-score: 0.45\n",
      "Test - Loss 0.69, Accuracy: 53.25, F1-score: 0.53\n"
     ]
    }
   ],
   "source": [
    "train_get_stats(binary = True, strategy = 'uniform')"
   ]
  },
  {
   "cell_type": "code",
   "execution_count": 11,
   "id": "e9ec6179",
   "metadata": {},
   "outputs": [
    {
     "name": "stdout",
     "output_type": "stream",
     "text": [
      "Train - Loss 0.69, Accuracy: 50.79, F1-score: 0.34\n",
      "Valdiation - Loss 0.69, Accuracy: 60.49, F1-score: 0.38\n",
      "Test - Loss 0.69, Accuracy: 58.44, F1-score: 0.37\n"
     ]
    }
   ],
   "source": [
    "train_get_stats(binary = True, strategy = 'prior')"
   ]
  },
  {
   "cell_type": "code",
   "execution_count": null,
   "id": "24644a2d",
   "metadata": {},
   "outputs": [],
   "source": []
  }
 ],
 "metadata": {
  "kernelspec": {
   "display_name": "thesis",
   "language": "python",
   "name": "python3"
  },
  "language_info": {
   "codemirror_mode": {
    "name": "ipython",
    "version": 3
   },
   "file_extension": ".py",
   "mimetype": "text/x-python",
   "name": "python",
   "nbconvert_exporter": "python",
   "pygments_lexer": "ipython3",
   "version": "3.12.9"
  }
 },
 "nbformat": 4,
 "nbformat_minor": 5
}
