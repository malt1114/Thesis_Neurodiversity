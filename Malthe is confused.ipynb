{
 "cells": [
  {
   "cell_type": "code",
   "execution_count": 1,
   "metadata": {},
   "outputs": [],
   "source": [
    "import nibabel as nib\n",
    "import numpy as np\n",
    "import pandas as pd\n",
    "from nilearn import image as nimg\n",
    "from nilearn import plotting as nplot\n",
    "from nilearn import masking as nimask\n",
    "from matplotlib import pyplot as plt\n",
    "import seaborn as sns\n",
    "from tqdm import tqdm\n",
    "import pickle\n",
    "import math \n",
    "import os"
   ]
  },
  {
   "cell_type": "code",
   "execution_count": 6,
   "metadata": {},
   "outputs": [],
   "source": [
    "clean_path = f'data.nosync/clean/NYU'\n",
    "file_list = os.listdir(clean_path)"
   ]
  },
  {
   "cell_type": "code",
   "execution_count": 7,
   "metadata": {},
   "outputs": [],
   "source": [
    "file_list.remove('.DS_Store')"
   ]
  },
  {
   "cell_type": "code",
   "execution_count": 12,
   "metadata": {},
   "outputs": [
    {
     "name": "stderr",
     "output_type": "stream",
     "text": [
      "100%|██████████| 395/395 [02:16<00:00,  2.90it/s]\n"
     ]
    }
   ],
   "source": [
    "means_pr_roi = []\n",
    "var_pr_roi = []\n",
    "\n",
    "\n",
    "for subject in tqdm(file_list): #For each subject\n",
    "    subject_means = {}\n",
    "    subject_variance = {}\n",
    "\n",
    "    subject_means['subject'] = subject\n",
    "    subject_variance['subject'] = subject\n",
    "   \n",
    "    subject = np.load(f'data.nosync/clean/NYU/{subject}')\n",
    "    for i in subject.files: #For each ROI\n",
    "        roi = subject[i]\n",
    "        values = []\n",
    "        #Get all values from each timestep\n",
    "        for t in range(roi.shape[0]):\n",
    "            values += roi[t].tolist()\n",
    "        #Calculate mean and variance           \n",
    "        subject_means[i] = sum(values)/len(values)\n",
    "        subject_variance[i] = np.var(values)\n",
    "\n",
    "    #Append to list\n",
    "    means_pr_roi.append(subject_means)\n",
    "    var_pr_roi.append(subject_variance)"
   ]
  },
  {
   "cell_type": "code",
   "execution_count": 13,
   "metadata": {},
   "outputs": [],
   "source": [
    "#save stats\n",
    "means_pr_roi = pd.DataFrame(means_pr_roi)\n",
    "means_pr_roi.to_csv('data.nosync/stats/mean_subject.csv', sep= \";\")\n",
    "\n",
    "var_pr_roi = pd.DataFrame(var_pr_roi)\n",
    "var_pr_roi.to_csv('data.nosync/stats/variance_subject.csv', sep= \";\")\n"
   ]
  },
  {
   "cell_type": "code",
   "execution_count": 31,
   "metadata": {},
   "outputs": [
    {
     "data": {
      "text/plain": [
       "count     3.000000\n",
       "mean     20.537873\n",
       "std      31.272077\n",
       "min       2.018199\n",
       "25%       2.484942\n",
       "50%       2.951686\n",
       "75%      29.797710\n",
       "max      56.643735\n",
       "Name: ROI_1, dtype: float64"
      ]
     },
     "execution_count": 31,
     "metadata": {},
     "output_type": "execute_result"
    }
   ],
   "source": [
    "var_pr_roi['ROI_1'][var_pr_roi['ROI_1']>2].describe()"
   ]
  },
  {
   "cell_type": "code",
   "execution_count": 33,
   "metadata": {},
   "outputs": [
    {
     "data": {
      "text/html": [
       "<div>\n",
       "<style scoped>\n",
       "    .dataframe tbody tr th:only-of-type {\n",
       "        vertical-align: middle;\n",
       "    }\n",
       "\n",
       "    .dataframe tbody tr th {\n",
       "        vertical-align: top;\n",
       "    }\n",
       "\n",
       "    .dataframe thead th {\n",
       "        text-align: right;\n",
       "    }\n",
       "</style>\n",
       "<table border=\"1\" class=\"dataframe\">\n",
       "  <thead>\n",
       "    <tr style=\"text-align: right;\">\n",
       "      <th></th>\n",
       "      <th>subject</th>\n",
       "      <th>ROI_1</th>\n",
       "      <th>ROI_2</th>\n",
       "      <th>ROI_3</th>\n",
       "      <th>ROI_4</th>\n",
       "      <th>ROI_5</th>\n",
       "      <th>ROI_6</th>\n",
       "      <th>ROI_7</th>\n",
       "    </tr>\n",
       "  </thead>\n",
       "  <tbody>\n",
       "    <tr>\n",
       "      <th>171</th>\n",
       "      <td>sfnwmrda0010077_session_1_rest_2.npz</td>\n",
       "      <td>2.018199</td>\n",
       "      <td>1.320290</td>\n",
       "      <td>1.830056</td>\n",
       "      <td>1.184891</td>\n",
       "      <td>1.797533</td>\n",
       "      <td>1.819504</td>\n",
       "      <td>1.760971</td>\n",
       "    </tr>\n",
       "    <tr>\n",
       "      <th>183</th>\n",
       "      <td>sfnwmrda1023964_session_1_rest_2.npz</td>\n",
       "      <td>56.643735</td>\n",
       "      <td>33.571468</td>\n",
       "      <td>34.131812</td>\n",
       "      <td>33.502569</td>\n",
       "      <td>27.563038</td>\n",
       "      <td>25.537749</td>\n",
       "      <td>35.815922</td>\n",
       "    </tr>\n",
       "    <tr>\n",
       "      <th>212</th>\n",
       "      <td>sfnwmrda0010111_session_1_rest_1.npz</td>\n",
       "      <td>2.951686</td>\n",
       "      <td>2.051688</td>\n",
       "      <td>2.591874</td>\n",
       "      <td>2.321350</td>\n",
       "      <td>13.845806</td>\n",
       "      <td>8.580765</td>\n",
       "      <td>7.663774</td>\n",
       "    </tr>\n",
       "  </tbody>\n",
       "</table>\n",
       "</div>"
      ],
      "text/plain": [
       "                                  subject      ROI_1      ROI_2      ROI_3  \\\n",
       "171  sfnwmrda0010077_session_1_rest_2.npz   2.018199   1.320290   1.830056   \n",
       "183  sfnwmrda1023964_session_1_rest_2.npz  56.643735  33.571468  34.131812   \n",
       "212  sfnwmrda0010111_session_1_rest_1.npz   2.951686   2.051688   2.591874   \n",
       "\n",
       "         ROI_4      ROI_5      ROI_6      ROI_7  \n",
       "171   1.184891   1.797533   1.819504   1.760971  \n",
       "183  33.502569  27.563038  25.537749  35.815922  \n",
       "212   2.321350  13.845806   8.580765   7.663774  "
      ]
     },
     "execution_count": 33,
     "metadata": {},
     "output_type": "execute_result"
    }
   ],
   "source": [
    "var_pr_roi[var_pr_roi['ROI_1']>2]"
   ]
  },
  {
   "cell_type": "code",
   "execution_count": 32,
   "metadata": {},
   "outputs": [
    {
     "data": {
      "text/plain": [
       "<seaborn.axisgrid.FacetGrid at 0x12bec2c10>"
      ]
     },
     "execution_count": 32,
     "metadata": {},
     "output_type": "execute_result"
    },
    {
     "data": {
      "image/png": "[encoded data removed]",
      "text/plain": [
       "<Figure size 500x500 with 1 Axes>"
      ]
     },
     "metadata": {},
     "output_type": "display_data"
    }
   ],
   "source": [
    "sns.displot(var_pr_roi['ROI_1'][var_pr_roi['ROI_1']<2].to_list(), kind= 'kde')"
   ]
  },
  {
   "cell_type": "code",
   "execution_count": null,
   "metadata": {},
   "outputs": [],
   "source": []
  }
 ],
 "metadata": {
  "kernelspec": {
   "display_name": "thesis",
   "language": "python",
   "name": "python3"
  },
  "language_info": {
   "codemirror_mode": {
    "name": "ipython",
    "version": 3
   },
   "file_extension": ".py",
   "mimetype": "text/x-python",
   "name": "python",
   "nbconvert_exporter": "python",
   "pygments_lexer": "ipython3",
   "version": "3.13.2"
  }
 },
 "nbformat": 4,
 "nbformat_minor": 2
}
