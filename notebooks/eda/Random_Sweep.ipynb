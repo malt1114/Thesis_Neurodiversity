{
  "cells": [
    {
      "cell_type": "markdown",
      "metadata": {},
      "source": [
        "### Imports"
      ]
    },
    {
      "cell_type": "code",
      "execution_count": 3,
      "metadata": {
        "id": "m7ZAGXZpIcyc"
      },
      "outputs": [],
      "source": [
        "import warnings\n",
        "\n",
        "import numpy as np\n",
        "import pandas as pd\n",
        "\n",
        "from sklearn.metrics import log_loss, f1_score\n",
        "from sklearn.preprocessing import StandardScaler\n",
        "from sklearn.dummy import DummyClassifier\n",
        "from sklearn.exceptions import ConvergenceWarning\n",
        "warnings.filterwarnings(\"ignore\", category=ConvergenceWarning)\n",
        "import networkx as nx\n",
        "from tqdm import  tqdm"
      ]
    },
    {
      "cell_type": "markdown",
      "metadata": {},
      "source": [
        "### Set up WandB"
      ]
    },
    {
      "cell_type": "code",
      "execution_count": 4,
      "metadata": {
        "id": "0QDsgDIEIkRQ"
      },
      "outputs": [],
      "source": [
        "# !pip install wandb -qU"
      ]
    },
    {
      "cell_type": "code",
      "execution_count": 5,
      "metadata": {
        "id": "OWbGY7xEImlk"
      },
      "outputs": [],
      "source": [
        "import wandb"
      ]
    },
    {
      "cell_type": "code",
      "execution_count": 6,
      "metadata": {
        "id": "Trhb4mSc0YuS"
      },
      "outputs": [
        {
          "name": "stderr",
          "output_type": "stream",
          "text": [
            "\u001b[34m\u001b[1mwandb\u001b[0m: \u001b[33mWARNING\u001b[0m If you're specifying your api key in code, ensure this code is not shared publicly.\n",
            "\u001b[34m\u001b[1mwandb\u001b[0m: \u001b[33mWARNING\u001b[0m Consider setting the WANDB_API_KEY environment variable, or running `wandb login` from the command line.\n",
            "\u001b[34m\u001b[1mwandb\u001b[0m: Appending key for api.wandb.ai to your netrc file: C:\\Users\\nici9\\_netrc\n",
            "\u001b[34m\u001b[1mwandb\u001b[0m: Currently logged in as: \u001b[33mnicola_c\u001b[0m (\u001b[33mmalthe-pabst-it-universitetet-i-k-benhavn\u001b[0m) to \u001b[32mhttps://api.wandb.ai\u001b[0m. Use \u001b[1m`wandb login --relogin`\u001b[0m to force relogin\n"
          ]
        },
        {
          "data": {
            "text/plain": [
              "True"
            ]
          },
          "execution_count": 6,
          "metadata": {},
          "output_type": "execute_result"
        }
      ],
      "source": [
        "wandb.login(key= \"d4d576d8b176ec09d0c02bee77f76407e764aa4f\")"
      ]
    },
    {
      "cell_type": "markdown",
      "metadata": {},
      "source": [
        "### Read in Motion and Demographics Data"
      ]
    },
    {
      "cell_type": "code",
      "execution_count": null,
      "metadata": {
        "id": "BumuHtyc3kEi"
      },
      "outputs": [
        {
          "data": {
            "text/html": [
              "<div>\n",
              "<style scoped>\n",
              "    .dataframe tbody tr th:only-of-type {\n",
              "        vertical-align: middle;\n",
              "    }\n",
              "\n",
              "    .dataframe tbody tr th {\n",
              "        vertical-align: top;\n",
              "    }\n",
              "\n",
              "    .dataframe thead th {\n",
              "        text-align: right;\n",
              "    }\n",
              "</style>\n",
              "<table border=\"1\" class=\"dataframe\">\n",
              "  <thead>\n",
              "    <tr style=\"text-align: right;\">\n",
              "      <th></th>\n",
              "      <th>Sub ID</th>\n",
              "      <th>Age</th>\n",
              "      <th>Sex</th>\n",
              "      <th>IQ</th>\n",
              "      <th>Dataset</th>\n",
              "      <th>Mean_Relative_RMS_Displacement</th>\n",
              "      <th>Max_Relative_RMS_Displacement</th>\n",
              "      <th>Movements_gt_threshold</th>\n",
              "      <th>MeanFD_Power</th>\n",
              "      <th>MeanFD_Jenkinson</th>\n",
              "      <th>MeanDVARS</th>\n",
              "      <th>Run</th>\n",
              "    </tr>\n",
              "  </thead>\n",
              "  <tbody>\n",
              "    <tr>\n",
              "      <th>0</th>\n",
              "      <td>50952</td>\n",
              "      <td>8.740</td>\n",
              "      <td>1.0</td>\n",
              "      <td>134.0</td>\n",
              "      <td>ABIDEI</td>\n",
              "      <td>0.077949</td>\n",
              "      <td>1.330583</td>\n",
              "      <td>23</td>\n",
              "      <td>0.601980</td>\n",
              "      <td>0.359159</td>\n",
              "      <td>2.793079</td>\n",
              "      <td>run-1</td>\n",
              "    </tr>\n",
              "    <tr>\n",
              "      <th>1</th>\n",
              "      <td>50953</td>\n",
              "      <td>11.764</td>\n",
              "      <td>1.0</td>\n",
              "      <td>132.0</td>\n",
              "      <td>ABIDEI</td>\n",
              "      <td>0.012573</td>\n",
              "      <td>0.068574</td>\n",
              "      <td>0</td>\n",
              "      <td>0.098726</td>\n",
              "      <td>0.058804</td>\n",
              "      <td>1.987881</td>\n",
              "      <td>run-1</td>\n",
              "    </tr>\n",
              "    <tr>\n",
              "      <th>2</th>\n",
              "      <td>50954</td>\n",
              "      <td>14.750</td>\n",
              "      <td>1.0</td>\n",
              "      <td>78.0</td>\n",
              "      <td>ABIDEI</td>\n",
              "      <td>0.008208</td>\n",
              "      <td>0.054994</td>\n",
              "      <td>0</td>\n",
              "      <td>0.053991</td>\n",
              "      <td>0.029231</td>\n",
              "      <td>2.061108</td>\n",
              "      <td>run-1</td>\n",
              "    </tr>\n",
              "  </tbody>\n",
              "</table>\n",
              "</div>"
            ],
            "text/plain": [
              "   Sub ID     Age  Sex     IQ Dataset  Mean_Relative_RMS_Displacement  \\\n",
              "0   50952   8.740  1.0  134.0  ABIDEI                        0.077949   \n",
              "1   50953  11.764  1.0  132.0  ABIDEI                        0.012573   \n",
              "2   50954  14.750  1.0   78.0  ABIDEI                        0.008208   \n",
              "\n",
              "   Max_Relative_RMS_Displacement  Movements_gt_threshold  MeanFD_Power  \\\n",
              "0                       1.330583                      23      0.601980   \n",
              "1                       0.068574                       0      0.098726   \n",
              "2                       0.054994                       0      0.053991   \n",
              "\n",
              "   MeanFD_Jenkinson  MeanDVARS    Run  \n",
              "0          0.359159   2.793079  run-1  \n",
              "1          0.058804   1.987881  run-1  \n",
              "2          0.029231   2.061108  run-1  "
            ]
          },
          "execution_count": 7,
          "metadata": {},
          "output_type": "execute_result"
        }
      ],
      "source": [
        "# MD_df = pd.read_csv(\"Motion_and_Demographics.csv\",index_col = 0)\n",
        "# MD_df[\"Run\"] = MD_df[\"scan_id\"].str.split(\"_\").str.get(-1)\n",
        "# MD_df = MD_df.drop(\"scan_id\",axis = 1)\n",
        "# MD_df = MD_df.drop(\"Label\",axis = 1)\n",
        "# MD_df[\"Sex\"] = MD_df[\"Sex\"].map({\"Male\":0,\"Female\":1})\n",
        "# MD_df.head(3)"
      ]
    },
    {
      "cell_type": "code",
      "execution_count": null,
      "metadata": {
        "id": "qO5mJ0En16uh"
      },
      "outputs": [],
      "source": [
        "# MD_dict = MD_df.set_index([\"Sub ID\", \"Dataset\",\"Run\"]).drop_duplicates().to_dict(orient=\"index\")"
      ]
    },
    {
      "cell_type": "markdown",
      "metadata": {},
      "source": [
        "### Load X,y Data for Train Val Splits"
      ]
    },
    {
      "cell_type": "code",
      "execution_count": null,
      "metadata": {
        "id": "5fOmE3QfIfJx"
      },
      "outputs": [],
      "source": [
        "\n",
        "# #Load dataset\n",
        "# def load_x_y(dataset:str,binary = \"Binary\", demographic_features = \"With_Demographic\", node_features = \"All_NF\"):\n",
        "#     #todo 3 types in parameters here\n",
        "#     if binary == \"Multiclass\":\n",
        "#       class_dict = {'TD': 0, 'ASD-ADHD':1, 'ASD':2, 'ADHD':3}\n",
        "#     elif binary == \"Binary\":\n",
        "#       class_dict = {'TD': 0, 'ASD-ADHD':1, 'ASD':1, 'ADHD':1}\n",
        "\n",
        "#     file_list = pd.read_csv(f'../../data.nosync/networks_multi/networks_multi/{dataset}_set_files.csv')['file'].to_list()\n",
        "#     data_list = []\n",
        "#     col_names = [\"Sub ID\",\"Run\",\"dataset\",\"y\"]\n",
        "\n",
        "#     for i in tqdm(file_list):\n",
        "#         i = i.split('/')[2]\n",
        "#         network_class = class_dict[i.split('_')[3]]\n",
        "#         id =  i.split('_')[0]\n",
        "#         run = i.split('_')[1]\n",
        "#         dataset =  i.split('_')[2]\n",
        "#         G = nx.read_gml(f'../../data.nosync/networks_multi/networks_multi/{i}')\n",
        "#         features = [id,run,dataset,network_class]\n",
        "#         # print(\"Nodes: \",G.nodes)\n",
        "#         # print(\"Class: \",network_class)\n",
        "#         # print(\"Features: \",features)\n",
        "#         # print(\"Run and dataset: \",run,dataset)\n",
        "#         # print(\"MD_info\", MD_dict[(int(id),dataset,run)])\n",
        "#         n_f_names = G.nodes[\"1\"].keys()\n",
        "#         # print(list(n_f_names))\n",
        "#         #break\n",
        "#         # for e in G.edges():\n",
        "#         #     u, v = e\n",
        "#         #     for key, value in G[u][v].items():\n",
        "#         #         G[u][v][key]['edge_features'] = max(value['edge_features'], 0) if not math.isnan(value['edge_features']) else 0\n",
        "#         # edge_features = nx.get_edge_attributes(G,\"edge_features\")\n",
        "\n",
        "#         if node_features == \"All_NF\":\n",
        "#           n_f_names = n_f_names\n",
        "#         elif node_features == \"No_PCA_NF\":\n",
        "#           n_f_names = [name for name in n_f_names if  \"pca\" not in name]\n",
        "#         elif node_features == \"All_PCA_NF\":\n",
        "#           n_f_names = [name for name in n_f_names if  \"pca\" in name]\n",
        "#         elif node_features == \"One_PCA_NF\":\n",
        "#           n_f_names = [name for name in n_f_names if  \"pca_all\" in name]\n",
        "#         elif node_features == \"No_NF\":\n",
        "#           n_f_names = []\n",
        "#         for n in G.nodes():\n",
        "#           for name in n_f_names:\n",
        "#             features.append(G.nodes[n][name])\n",
        "\n",
        "#         if demographic_features == \"With_Demographic\":\n",
        "#           for demographic_info in  MD_dict[(int(id),dataset,run)].values():\n",
        "#             features.append(demographic_info)\n",
        "\n",
        "#           #features.append(node)\n",
        "#         data_list.append(features)\n",
        "#     print(n_f_names)\n",
        "\n",
        "#     if node_features != \"No_NF\":\n",
        "#       for n in G.nodes():\n",
        "#         col_names.extend([i+\"_\"+n for i in n_f_names])\n",
        "#     elif node_features == \"No_NF\":\n",
        "#       pass\n",
        "\n",
        "\n",
        "#     if demographic_features == \"With_Demographic\":\n",
        "#       col_names.extend(MD_dict[(int(id),dataset,run)].keys())\n",
        "#     #[col_names.append(i) for i in range(len(features)-4)]\n",
        "#     # print(len(col_names),col_names)\n",
        "#     # print(len(data_list),len(data_list[0]))\n",
        "#     data_list = pd.DataFrame(data_list,columns=col_names)\n",
        "#     X =  np.array(data_list[col_names[4:]])\n",
        "#     y =  np.array(data_list[\"y\"])\n",
        "#     return X,y\n",
        "\n",
        "# def load_datasets(binary = \"Binary\", demographic_features = \"With_Demographic\", node_features = \"All_NF\"): # 1 min per call\n",
        "#   print(\"Loading: \", binary,demographic_features,node_features)\n",
        "#   if demographic_features == \"Without_Demographic\" and node_features == \"No_NF\":\n",
        "#     return [],[],[],[]\n",
        "#   X_train, y_train = load_x_y(dataset='train', binary= binary, demographic_features= demographic_features, node_features=node_features) # 30 sec\n",
        "#   scaler = StandardScaler()\n",
        "#   X_train = scaler.fit_transform(X_train)\n",
        "#   X_val, y_val = load_x_y(dataset='val', binary= binary, demographic_features= demographic_features, node_features=node_features)\n",
        "#   X_val = scaler.transform(X_val)\n",
        "#   #todo add test?\n",
        "#   return X_train, y_train, X_val, y_val"
      ]
    },
    {
      "cell_type": "code",
      "execution_count": 10,
      "metadata": {
        "colab": {
          "base_uri": "https://localhost:8080/"
        },
        "collapsed": true,
        "id": "WMgTOlKDJ-5i",
        "outputId": "0e6f31fa-dfce-4093-ad23-0aa4d5183178"
      },
      "outputs": [],
      "source": [
        "# X_train, y_train, X_val, y_val = load_datasets(binary = \"Binary\", demographic_features = \"With_Demographic\", node_features = \"One_PCA_NF\")"
      ]
    },
    {
      "cell_type": "markdown",
      "metadata": {},
      "source": [
        "#### Create a Dict for fast access to data in the sweep"
      ]
    },
    {
      "cell_type": "code",
      "execution_count": 11,
      "metadata": {
        "id": "xc-tomM6dfp7"
      },
      "outputs": [],
      "source": [
        "# # All possibilies for datasets\n",
        "# Binary = [\"Binary\",\"Multiclass\"]\n",
        "# Demographic = [\"With_Demographic\",\"Without_Demographic\"]\n",
        "# Node_Features = [\"All_NF\",\"No_PCA_NF\",\"All_PCA_NF\",\"One_PCA_NF\",\"No_NF\"]\n",
        "\n",
        "# # a dictionary for fast access to datasets\n",
        "# dataset_dict = {i:{\n",
        "#     j:{\n",
        "#       k:[load_datasets(binary = j, demographic_features = k, node_features = i)] for k in Demographic}\n",
        "#     for j in Binary }\n",
        "#                 for i in Node_Features}\n",
        "# np.save('dataset_dict.npy', dataset_dict) \n"
      ]
    },
    {
      "cell_type": "code",
      "execution_count": null,
      "metadata": {},
      "outputs": [],
      "source": [
        "# dataset_dict = np.load('dataset_dict.npy', allow_pickle=True).item()"
      ]
    },
    {
      "cell_type": "code",
      "execution_count": null,
      "metadata": {
        "colab": {
          "base_uri": "https://localhost:8080/"
        },
        "id": "4OEy_5wNstLU",
        "outputId": "d31b5d26-f62e-4e0b-9669-252fc52f5069"
      },
      "outputs": [
        {
          "data": {
            "text/plain": [
              "dict_keys(['All_NF', 'No_PCA_NF', 'All_PCA_NF', 'One_PCA_NF', 'No_NF'])"
            ]
          },
          "execution_count": 13,
          "metadata": {},
          "output_type": "execute_result"
        }
      ],
      "source": [
        "# dataset_dict.keys()"
      ]
    },
    {
      "cell_type": "code",
      "execution_count": null,
      "metadata": {
        "id": "FDmGwmNY2q6Z"
      },
      "outputs": [
        {
          "data": {
            "text/plain": [
              "4"
            ]
          },
          "execution_count": 14,
          "metadata": {},
          "output_type": "execute_result"
        }
      ],
      "source": [
        "# len(dataset_dict[\"All_NF\"][\"Binary\"][\"With_Demographic\"][0])"
      ]
    },
    {
      "cell_type": "markdown",
      "metadata": {},
      "source": [
        "### Train the Models"
      ]
    },
    {
      "cell_type": "code",
      "execution_count": null,
      "metadata": {
        "id": "fOnd1qSaJMf_"
      },
      "outputs": [],
      "source": [
        "rng = np.random.RandomState(0)\n",
        "def train_random(config=None, binary = False):\n",
        "  # Train model, get predictions\n",
        "  with wandb.init(config=config):\n",
        "    # If called by wandb.agent, as below,\n",
        "    # this config will be set by Sweep Controller\n",
        "    config = wandb.config\n",
        "    model = DummyClassifier(strategy= config.strategy,\n",
        "                               random_state=rng)\n",
        "    \n",
        "    \n",
        "    # just giving it any of the datasets (it only uses y anyway)\n",
        "    X_train, y_train, X_val, y_val = dataset_dict[\"All_NF\"][config.binary][\"With_Demographic\"][0]\n",
        "    model.fit(X_train, y_train)\n",
        "    y_pred = model.predict(X_val)\n",
        "    y_probas = model.predict_proba(X_val)\n",
        "    y_probas_train = model.predict_proba(X_train)\n",
        "\n",
        "      \n",
        "    n_ll = log_loss(y_val ,y_probas)\n",
        "    n_ll_train = log_loss(y_train ,y_probas_train)\n",
        "    f_1 = f1_score(y_pred ,y_val,average = \"weighted\")\n",
        "\n",
        "    if binary == False:\n",
        "      labels = ['TD', 'ASD-ADHD', 'ASD', 'ADHD']\n",
        "    elif binary == True:\n",
        "      labels = [\"TD\",\"ND\"]\n",
        "\n",
        "\n",
        "    #indices = np.argsort(importances)[::-1]\n",
        "    print(n_ll,n_ll_train)\n",
        "    wandb.log({\n",
        "        \"train_loss\": n_ll_train,\n",
        "        \"val_loss\": n_ll,\n",
        "        \"f1_score\": f_1\n",
        "        })\n",
        "    wandb.sklearn.plot_classifier(model,\n",
        "                                X_train, X_val,\n",
        "                                y_train, y_val,\n",
        "                                y_pred, y_probas,\n",
        "                                labels,\n",
        "                                is_binary=binary,\n",
        "                                model_name=f'Random_{config.strategy}')\n",
        "\n"
      ]
    },
    {
      "cell_type": "code",
      "execution_count": null,
      "metadata": {
        "id": "R2cab6M8S_5E"
      },
      "outputs": [],
      "source": [
        "# run = wandb.init(project='my-scikit-integration', name=\"logistic_test_balanced_edgefeatures_multi\")\n",
        "# train_random()\n",
        "# wandb.finish()"
      ]
    },
    {
      "cell_type": "code",
      "execution_count": null,
      "metadata": {
        "colab": {
          "base_uri": "https://localhost:8080/",
          "height": 193
        },
        "id": "ilv71mQyJhKy",
        "outputId": "12b05d80-61fe-4506-ab88-1105aa128e7b"
      },
      "outputs": [
        {
          "name": "stdout",
          "output_type": "stream",
          "text": [
            "Create sweep with ID: 8kuujfk2\n",
            "Sweep URL: https://wandb.ai/malthe-pabst-it-universitetet-i-k-benhavn/logistic_testing/sweeps/8kuujfk2\n"
          ]
        }
      ],
      "source": [
        "#sweep\n",
        "Binary = [\"Binary\",\"Multiclass\"]\n",
        "Demographic = [\"With_Demographic\",\"Without_Demographic\"]\n",
        "Node_Features = [\"All_NF\",\"No_PCA_NF\",\"All_PCA_NF\",\"One_PCA_NF\",\"No_NF\"]\n",
        "\n",
        "def main():\n",
        "    wandb.init(project=\"logistic_combined_sweep\")\n",
        "    is_binary = wandb.config.binary ==\"Binary\"\n",
        "    train_random(config=wandb.config, binary = is_binary)\n",
        "# 2: Define the search space\n",
        "sweep_configuration = {\n",
        "    \"method\": \"grid\",\n",
        "    # \"metric\": {\"goal\": \"minimize\", \"name\": \"val_loss\"},\n",
        "    \"parameters\": {\n",
        "        \"strategy\": {\"values\": ['most_frequent', 'prior', 'stratified', 'uniform']},\n",
        "        ## which data demographic and node features\n",
        "        \"binary\": {\"values\":[\"Binary\",\"Multiclass\"]}\n",
        "    }\n",
        "}\n",
        "\n",
        "# 3: Start the sweep\n",
        "sweep_id = wandb.sweep(sweep=sweep_configuration, project=\"random_model\")\n",
        "\n"
      ]
    },
    {
      "cell_type": "code",
      "execution_count": 18,
      "metadata": {
        "colab": {
          "base_uri": "https://localhost:8080/",
          "height": 1000
        },
        "collapsed": true,
        "id": "k38ERJHpKGiN",
        "outputId": "52f18b59-9de3-4475-a0b9-ad2f82030fae"
      },
      "outputs": [
        {
          "name": "stderr",
          "output_type": "stream",
          "text": [
            "\u001b[34m\u001b[1mwandb\u001b[0m: Agent Starting Run: 5idygwrb with config:\n",
            "\u001b[34m\u001b[1mwandb\u001b[0m: \tbinary: Binary\n",
            "\u001b[34m\u001b[1mwandb\u001b[0m: \tstrategy: most_frequent\n"
          ]
        },
        {
          "data": {
            "text/html": [
              "Ignoring project 'logistic_combined_sweep' when running a sweep."
            ],
            "text/plain": [
              "<IPython.core.display.HTML object>"
            ]
          },
          "metadata": {},
          "output_type": "display_data"
        },
        {
          "data": {
            "text/html": [
              "Tracking run with wandb version 0.21.1"
            ],
            "text/plain": [
              "<IPython.core.display.HTML object>"
            ]
          },
          "metadata": {},
          "output_type": "display_data"
        },
        {
          "data": {
            "text/html": [
              "Run data is saved locally in <code>c:\\Users\\nici9\\Documents\\University\\K\\Thesis\\New_Git\\Thesis_Neurodiversity\\notebooks\\eda\\wandb\\run-20250827_113055-5idygwrb</code>"
            ],
            "text/plain": [
              "<IPython.core.display.HTML object>"
            ]
          },
          "metadata": {},
          "output_type": "display_data"
        },
        {
          "data": {
            "text/html": [
              "Syncing run <strong><a href='https://wandb.ai/malthe-pabst-it-universitetet-i-k-benhavn/logistic_testing/runs/5idygwrb' target=\"_blank\">dazzling-sweep-1</a></strong> to <a href='https://wandb.ai/malthe-pabst-it-universitetet-i-k-benhavn/logistic_testing' target=\"_blank\">Weights & Biases</a> (<a href='https://wandb.me/developer-guide' target=\"_blank\">docs</a>)<br>Sweep page: <a href='https://wandb.ai/malthe-pabst-it-universitetet-i-k-benhavn/logistic_testing/sweeps/8kuujfk2' target=\"_blank\">https://wandb.ai/malthe-pabst-it-universitetet-i-k-benhavn/logistic_testing/sweeps/8kuujfk2</a>"
            ],
            "text/plain": [
              "<IPython.core.display.HTML object>"
            ]
          },
          "metadata": {},
          "output_type": "display_data"
        },
        {
          "data": {
            "text/html": [
              " View project at <a href='https://wandb.ai/malthe-pabst-it-universitetet-i-k-benhavn/logistic_testing' target=\"_blank\">https://wandb.ai/malthe-pabst-it-universitetet-i-k-benhavn/logistic_testing</a>"
            ],
            "text/plain": [
              "<IPython.core.display.HTML object>"
            ]
          },
          "metadata": {},
          "output_type": "display_data"
        },
        {
          "data": {
            "text/html": [
              " View sweep at <a href='https://wandb.ai/malthe-pabst-it-universitetet-i-k-benhavn/logistic_testing/sweeps/8kuujfk2' target=\"_blank\">https://wandb.ai/malthe-pabst-it-universitetet-i-k-benhavn/logistic_testing/sweeps/8kuujfk2</a>"
            ],
            "text/plain": [
              "<IPython.core.display.HTML object>"
            ]
          },
          "metadata": {},
          "output_type": "display_data"
        },
        {
          "data": {
            "text/html": [
              " View run at <a href='https://wandb.ai/malthe-pabst-it-universitetet-i-k-benhavn/logistic_testing/runs/5idygwrb' target=\"_blank\">https://wandb.ai/malthe-pabst-it-universitetet-i-k-benhavn/logistic_testing/runs/5idygwrb</a>"
            ],
            "text/plain": [
              "<IPython.core.display.HTML object>"
            ]
          },
          "metadata": {},
          "output_type": "display_data"
        },
        {
          "data": {
            "text/html": [
              "Finishing previous runs because reinit is set to 'default'."
            ],
            "text/plain": [
              "<IPython.core.display.HTML object>"
            ]
          },
          "metadata": {},
          "output_type": "display_data"
        },
        {
          "name": "stderr",
          "output_type": "stream",
          "text": [
            "\u001b[34m\u001b[1mwandb\u001b[0m: \u001b[32m\u001b[41mERROR\u001b[0m The nbformat package was not found. It is required to save notebook history.\n"
          ]
        },
        {
          "data": {
            "text/html": [],
            "text/plain": [
              "<IPython.core.display.HTML object>"
            ]
          },
          "metadata": {},
          "output_type": "display_data"
        },
        {
          "data": {
            "text/html": [
              " View run <strong style=\"color:#cdcd00\">dazzling-sweep-1</strong> at: <a href='https://wandb.ai/malthe-pabst-it-universitetet-i-k-benhavn/logistic_testing/runs/5idygwrb' target=\"_blank\">https://wandb.ai/malthe-pabst-it-universitetet-i-k-benhavn/logistic_testing/runs/5idygwrb</a><br> View project at: <a href='https://wandb.ai/malthe-pabst-it-universitetet-i-k-benhavn/logistic_testing' target=\"_blank\">https://wandb.ai/malthe-pabst-it-universitetet-i-k-benhavn/logistic_testing</a><br>Synced 5 W&B file(s), 0 media file(s), 0 artifact file(s) and 0 other file(s)"
            ],
            "text/plain": [
              "<IPython.core.display.HTML object>"
            ]
          },
          "metadata": {},
          "output_type": "display_data"
        },
        {
          "data": {
            "text/html": [
              "Find logs at: <code>.\\wandb\\run-20250827_113055-5idygwrb\\logs</code>"
            ],
            "text/plain": [
              "<IPython.core.display.HTML object>"
            ]
          },
          "metadata": {},
          "output_type": "display_data"
        },
        {
          "data": {
            "text/html": [
              "Tracking run with wandb version 0.21.1"
            ],
            "text/plain": [
              "<IPython.core.display.HTML object>"
            ]
          },
          "metadata": {},
          "output_type": "display_data"
        },
        {
          "data": {
            "text/html": [
              "Run data is saved locally in <code>c:\\Users\\nici9\\Documents\\University\\K\\Thesis\\New_Git\\Thesis_Neurodiversity\\notebooks\\eda\\wandb\\run-20250827_113056-5idygwrb</code>"
            ],
            "text/plain": [
              "<IPython.core.display.HTML object>"
            ]
          },
          "metadata": {},
          "output_type": "display_data"
        },
        {
          "data": {
            "text/html": [
              "Syncing run <strong><a href='https://wandb.ai/malthe-pabst-it-universitetet-i-k-benhavn/logistic_testing/runs/5idygwrb' target=\"_blank\">dazzling-sweep-1</a></strong> to <a href='https://wandb.ai/malthe-pabst-it-universitetet-i-k-benhavn/logistic_testing' target=\"_blank\">Weights & Biases</a> (<a href='https://wandb.me/developer-guide' target=\"_blank\">docs</a>)<br>Sweep page: <a href='https://wandb.ai/malthe-pabst-it-universitetet-i-k-benhavn/logistic_testing/sweeps/8kuujfk2' target=\"_blank\">https://wandb.ai/malthe-pabst-it-universitetet-i-k-benhavn/logistic_testing/sweeps/8kuujfk2</a>"
            ],
            "text/plain": [
              "<IPython.core.display.HTML object>"
            ]
          },
          "metadata": {},
          "output_type": "display_data"
        },
        {
          "data": {
            "text/html": [
              " View project at <a href='https://wandb.ai/malthe-pabst-it-universitetet-i-k-benhavn/logistic_testing' target=\"_blank\">https://wandb.ai/malthe-pabst-it-universitetet-i-k-benhavn/logistic_testing</a>"
            ],
            "text/plain": [
              "<IPython.core.display.HTML object>"
            ]
          },
          "metadata": {},
          "output_type": "display_data"
        },
        {
          "data": {
            "text/html": [
              " View sweep at <a href='https://wandb.ai/malthe-pabst-it-universitetet-i-k-benhavn/logistic_testing/sweeps/8kuujfk2' target=\"_blank\">https://wandb.ai/malthe-pabst-it-universitetet-i-k-benhavn/logistic_testing/sweeps/8kuujfk2</a>"
            ],
            "text/plain": [
              "<IPython.core.display.HTML object>"
            ]
          },
          "metadata": {},
          "output_type": "display_data"
        },
        {
          "data": {
            "text/html": [
              " View run at <a href='https://wandb.ai/malthe-pabst-it-universitetet-i-k-benhavn/logistic_testing/runs/5idygwrb' target=\"_blank\">https://wandb.ai/malthe-pabst-it-universitetet-i-k-benhavn/logistic_testing/runs/5idygwrb</a>"
            ],
            "text/plain": [
              "<IPython.core.display.HTML object>"
            ]
          },
          "metadata": {},
          "output_type": "display_data"
        },
        {
          "name": "stderr",
          "output_type": "stream",
          "text": [
            "\u001b[34m\u001b[1mwandb\u001b[0m: \n",
            "\u001b[34m\u001b[1mwandb\u001b[0m: Plotting Random_most_frequent.\n",
            "\u001b[34m\u001b[1mwandb\u001b[0m: Logged feature importances.\n"
          ]
        },
        {
          "name": "stdout",
          "output_type": "stream",
          "text": [
            "14.239468005577146 17.7357659533751\n"
          ]
        },
        {
          "name": "stderr",
          "output_type": "stream",
          "text": [
            "\u001b[34m\u001b[1mwandb\u001b[0m: Logged confusion matrix.\n",
            "\u001b[34m\u001b[1mwandb\u001b[0m: Logged summary metrics.\n",
            "\u001b[34m\u001b[1mwandb\u001b[0m: Logged class proportions.\n",
            "\u001b[34m\u001b[1mwandb\u001b[0m: Logged calibration curve.\n",
            "\u001b[34m\u001b[1mwandb\u001b[0m: Logged roc curve.\n",
            "\u001b[34m\u001b[1mwandb\u001b[0m: Logged precision-recall curve.\n"
          ]
        },
        {
          "data": {
            "text/html": [],
            "text/plain": [
              "<IPython.core.display.HTML object>"
            ]
          },
          "metadata": {},
          "output_type": "display_data"
        },
        {
          "data": {
            "text/html": [
              "<br>    <style><br>        .wandb-row {<br>            display: flex;<br>            flex-direction: row;<br>            flex-wrap: wrap;<br>            justify-content: flex-start;<br>            width: 100%;<br>        }<br>        .wandb-col {<br>            display: flex;<br>            flex-direction: column;<br>            flex-basis: 100%;<br>            flex: 1;<br>            padding: 10px;<br>        }<br>    </style><br><div class=\"wandb-row\"><div class=\"wandb-col\"><h3>Run history:</h3><br/><table class=\"wandb\"><tr><td>f1_score</td><td>▁</td></tr><tr><td>train_loss</td><td>▁</td></tr><tr><td>val_loss</td><td>▁</td></tr></table><br/></div><div class=\"wandb-col\"><h3>Run summary:</h3><br/><table class=\"wandb\"><tr><td>f1_score</td><td>0.75385</td></tr><tr><td>train_loss</td><td>17.73577</td></tr><tr><td>val_loss</td><td>14.23947</td></tr></table><br/></div></div>"
            ],
            "text/plain": [
              "<IPython.core.display.HTML object>"
            ]
          },
          "metadata": {},
          "output_type": "display_data"
        },
        {
          "data": {
            "text/html": [
              " View run <strong style=\"color:#cdcd00\">dazzling-sweep-1</strong> at: <a href='https://wandb.ai/malthe-pabst-it-universitetet-i-k-benhavn/logistic_testing/runs/5idygwrb' target=\"_blank\">https://wandb.ai/malthe-pabst-it-universitetet-i-k-benhavn/logistic_testing/runs/5idygwrb</a><br> View project at: <a href='https://wandb.ai/malthe-pabst-it-universitetet-i-k-benhavn/logistic_testing' target=\"_blank\">https://wandb.ai/malthe-pabst-it-universitetet-i-k-benhavn/logistic_testing</a><br>Synced 5 W&B file(s), 4 media file(s), 8 artifact file(s) and 0 other file(s)"
            ],
            "text/plain": [
              "<IPython.core.display.HTML object>"
            ]
          },
          "metadata": {},
          "output_type": "display_data"
        },
        {
          "data": {
            "text/html": [
              "Find logs at: <code>.\\wandb\\run-20250827_113056-5idygwrb\\logs</code>"
            ],
            "text/plain": [
              "<IPython.core.display.HTML object>"
            ]
          },
          "metadata": {},
          "output_type": "display_data"
        },
        {
          "name": "stderr",
          "output_type": "stream",
          "text": [
            "\u001b[34m\u001b[1mwandb\u001b[0m: Agent Starting Run: 9jkqsttg with config:\n",
            "\u001b[34m\u001b[1mwandb\u001b[0m: \tbinary: Binary\n",
            "\u001b[34m\u001b[1mwandb\u001b[0m: \tstrategy: prior\n"
          ]
        },
        {
          "data": {
            "text/html": [
              "Ignoring project 'logistic_combined_sweep' when running a sweep."
            ],
            "text/plain": [
              "<IPython.core.display.HTML object>"
            ]
          },
          "metadata": {},
          "output_type": "display_data"
        },
        {
          "data": {
            "text/html": [
              "Tracking run with wandb version 0.21.1"
            ],
            "text/plain": [
              "<IPython.core.display.HTML object>"
            ]
          },
          "metadata": {},
          "output_type": "display_data"
        },
        {
          "data": {
            "text/html": [
              "Run data is saved locally in <code>c:\\Users\\nici9\\Documents\\University\\K\\Thesis\\New_Git\\Thesis_Neurodiversity\\notebooks\\eda\\wandb\\run-20250827_113112-9jkqsttg</code>"
            ],
            "text/plain": [
              "<IPython.core.display.HTML object>"
            ]
          },
          "metadata": {},
          "output_type": "display_data"
        },
        {
          "data": {
            "text/html": [
              "Syncing run <strong><a href='https://wandb.ai/malthe-pabst-it-universitetet-i-k-benhavn/logistic_testing/runs/9jkqsttg' target=\"_blank\">clean-sweep-2</a></strong> to <a href='https://wandb.ai/malthe-pabst-it-universitetet-i-k-benhavn/logistic_testing' target=\"_blank\">Weights & Biases</a> (<a href='https://wandb.me/developer-guide' target=\"_blank\">docs</a>)<br>Sweep page: <a href='https://wandb.ai/malthe-pabst-it-universitetet-i-k-benhavn/logistic_testing/sweeps/8kuujfk2' target=\"_blank\">https://wandb.ai/malthe-pabst-it-universitetet-i-k-benhavn/logistic_testing/sweeps/8kuujfk2</a>"
            ],
            "text/plain": [
              "<IPython.core.display.HTML object>"
            ]
          },
          "metadata": {},
          "output_type": "display_data"
        },
        {
          "data": {
            "text/html": [
              " View project at <a href='https://wandb.ai/malthe-pabst-it-universitetet-i-k-benhavn/logistic_testing' target=\"_blank\">https://wandb.ai/malthe-pabst-it-universitetet-i-k-benhavn/logistic_testing</a>"
            ],
            "text/plain": [
              "<IPython.core.display.HTML object>"
            ]
          },
          "metadata": {},
          "output_type": "display_data"
        },
        {
          "data": {
            "text/html": [
              " View sweep at <a href='https://wandb.ai/malthe-pabst-it-universitetet-i-k-benhavn/logistic_testing/sweeps/8kuujfk2' target=\"_blank\">https://wandb.ai/malthe-pabst-it-universitetet-i-k-benhavn/logistic_testing/sweeps/8kuujfk2</a>"
            ],
            "text/plain": [
              "<IPython.core.display.HTML object>"
            ]
          },
          "metadata": {},
          "output_type": "display_data"
        },
        {
          "data": {
            "text/html": [
              " View run at <a href='https://wandb.ai/malthe-pabst-it-universitetet-i-k-benhavn/logistic_testing/runs/9jkqsttg' target=\"_blank\">https://wandb.ai/malthe-pabst-it-universitetet-i-k-benhavn/logistic_testing/runs/9jkqsttg</a>"
            ],
            "text/plain": [
              "<IPython.core.display.HTML object>"
            ]
          },
          "metadata": {},
          "output_type": "display_data"
        },
        {
          "data": {
            "text/html": [
              "Finishing previous runs because reinit is set to 'default'."
            ],
            "text/plain": [
              "<IPython.core.display.HTML object>"
            ]
          },
          "metadata": {},
          "output_type": "display_data"
        },
        {
          "name": "stderr",
          "output_type": "stream",
          "text": [
            "\u001b[34m\u001b[1mwandb\u001b[0m: \u001b[32m\u001b[41mERROR\u001b[0m The nbformat package was not found. It is required to save notebook history.\n"
          ]
        },
        {
          "data": {
            "text/html": [],
            "text/plain": [
              "<IPython.core.display.HTML object>"
            ]
          },
          "metadata": {},
          "output_type": "display_data"
        },
        {
          "data": {
            "text/html": [
              " View run <strong style=\"color:#cdcd00\">clean-sweep-2</strong> at: <a href='https://wandb.ai/malthe-pabst-it-universitetet-i-k-benhavn/logistic_testing/runs/9jkqsttg' target=\"_blank\">https://wandb.ai/malthe-pabst-it-universitetet-i-k-benhavn/logistic_testing/runs/9jkqsttg</a><br> View project at: <a href='https://wandb.ai/malthe-pabst-it-universitetet-i-k-benhavn/logistic_testing' target=\"_blank\">https://wandb.ai/malthe-pabst-it-universitetet-i-k-benhavn/logistic_testing</a><br>Synced 5 W&B file(s), 0 media file(s), 0 artifact file(s) and 0 other file(s)"
            ],
            "text/plain": [
              "<IPython.core.display.HTML object>"
            ]
          },
          "metadata": {},
          "output_type": "display_data"
        },
        {
          "data": {
            "text/html": [
              "Find logs at: <code>.\\wandb\\run-20250827_113112-9jkqsttg\\logs</code>"
            ],
            "text/plain": [
              "<IPython.core.display.HTML object>"
            ]
          },
          "metadata": {},
          "output_type": "display_data"
        },
        {
          "data": {
            "text/html": [
              "Tracking run with wandb version 0.21.1"
            ],
            "text/plain": [
              "<IPython.core.display.HTML object>"
            ]
          },
          "metadata": {},
          "output_type": "display_data"
        },
        {
          "data": {
            "text/html": [
              "Run data is saved locally in <code>c:\\Users\\nici9\\Documents\\University\\K\\Thesis\\New_Git\\Thesis_Neurodiversity\\notebooks\\eda\\wandb\\run-20250827_113113-9jkqsttg</code>"
            ],
            "text/plain": [
              "<IPython.core.display.HTML object>"
            ]
          },
          "metadata": {},
          "output_type": "display_data"
        },
        {
          "data": {
            "text/html": [
              "Syncing run <strong><a href='https://wandb.ai/malthe-pabst-it-universitetet-i-k-benhavn/logistic_testing/runs/9jkqsttg' target=\"_blank\">clean-sweep-2</a></strong> to <a href='https://wandb.ai/malthe-pabst-it-universitetet-i-k-benhavn/logistic_testing' target=\"_blank\">Weights & Biases</a> (<a href='https://wandb.me/developer-guide' target=\"_blank\">docs</a>)<br>Sweep page: <a href='https://wandb.ai/malthe-pabst-it-universitetet-i-k-benhavn/logistic_testing/sweeps/8kuujfk2' target=\"_blank\">https://wandb.ai/malthe-pabst-it-universitetet-i-k-benhavn/logistic_testing/sweeps/8kuujfk2</a>"
            ],
            "text/plain": [
              "<IPython.core.display.HTML object>"
            ]
          },
          "metadata": {},
          "output_type": "display_data"
        },
        {
          "data": {
            "text/html": [
              " View project at <a href='https://wandb.ai/malthe-pabst-it-universitetet-i-k-benhavn/logistic_testing' target=\"_blank\">https://wandb.ai/malthe-pabst-it-universitetet-i-k-benhavn/logistic_testing</a>"
            ],
            "text/plain": [
              "<IPython.core.display.HTML object>"
            ]
          },
          "metadata": {},
          "output_type": "display_data"
        },
        {
          "data": {
            "text/html": [
              " View sweep at <a href='https://wandb.ai/malthe-pabst-it-universitetet-i-k-benhavn/logistic_testing/sweeps/8kuujfk2' target=\"_blank\">https://wandb.ai/malthe-pabst-it-universitetet-i-k-benhavn/logistic_testing/sweeps/8kuujfk2</a>"
            ],
            "text/plain": [
              "<IPython.core.display.HTML object>"
            ]
          },
          "metadata": {},
          "output_type": "display_data"
        },
        {
          "data": {
            "text/html": [
              " View run at <a href='https://wandb.ai/malthe-pabst-it-universitetet-i-k-benhavn/logistic_testing/runs/9jkqsttg' target=\"_blank\">https://wandb.ai/malthe-pabst-it-universitetet-i-k-benhavn/logistic_testing/runs/9jkqsttg</a>"
            ],
            "text/plain": [
              "<IPython.core.display.HTML object>"
            ]
          },
          "metadata": {},
          "output_type": "display_data"
        },
        {
          "name": "stderr",
          "output_type": "stream",
          "text": [
            "\u001b[34m\u001b[1mwandb\u001b[0m: \n",
            "\u001b[34m\u001b[1mwandb\u001b[0m: Plotting Random_prior.\n",
            "\u001b[34m\u001b[1mwandb\u001b[0m: Logged feature importances.\n"
          ]
        },
        {
          "name": "stdout",
          "output_type": "stream",
          "text": [
            "0.6899415192222578 0.6930211989529489\n"
          ]
        },
        {
          "name": "stderr",
          "output_type": "stream",
          "text": [
            "\u001b[34m\u001b[1mwandb\u001b[0m: Logged confusion matrix.\n",
            "\u001b[34m\u001b[1mwandb\u001b[0m: Logged summary metrics.\n",
            "\u001b[34m\u001b[1mwandb\u001b[0m: Logged class proportions.\n",
            "\u001b[34m\u001b[1mwandb\u001b[0m: Logged calibration curve.\n",
            "\u001b[34m\u001b[1mwandb\u001b[0m: Logged roc curve.\n",
            "\u001b[34m\u001b[1mwandb\u001b[0m: Logged precision-recall curve.\n"
          ]
        },
        {
          "data": {
            "text/html": [],
            "text/plain": [
              "<IPython.core.display.HTML object>"
            ]
          },
          "metadata": {},
          "output_type": "display_data"
        },
        {
          "data": {
            "text/html": [
              "<br>    <style><br>        .wandb-row {<br>            display: flex;<br>            flex-direction: row;<br>            flex-wrap: wrap;<br>            justify-content: flex-start;<br>            width: 100%;<br>        }<br>        .wandb-col {<br>            display: flex;<br>            flex-direction: column;<br>            flex-basis: 100%;<br>            flex: 1;<br>            padding: 10px;<br>        }<br>    </style><br><div class=\"wandb-row\"><div class=\"wandb-col\"><h3>Run history:</h3><br/><table class=\"wandb\"><tr><td>f1_score</td><td>▁</td></tr><tr><td>train_loss</td><td>▁</td></tr><tr><td>val_loss</td><td>▁</td></tr></table><br/></div><div class=\"wandb-col\"><h3>Run summary:</h3><br/><table class=\"wandb\"><tr><td>f1_score</td><td>0.75385</td></tr><tr><td>train_loss</td><td>0.69302</td></tr><tr><td>val_loss</td><td>0.68994</td></tr></table><br/></div></div>"
            ],
            "text/plain": [
              "<IPython.core.display.HTML object>"
            ]
          },
          "metadata": {},
          "output_type": "display_data"
        },
        {
          "data": {
            "text/html": [
              " View run <strong style=\"color:#cdcd00\">clean-sweep-2</strong> at: <a href='https://wandb.ai/malthe-pabst-it-universitetet-i-k-benhavn/logistic_testing/runs/9jkqsttg' target=\"_blank\">https://wandb.ai/malthe-pabst-it-universitetet-i-k-benhavn/logistic_testing/runs/9jkqsttg</a><br> View project at: <a href='https://wandb.ai/malthe-pabst-it-universitetet-i-k-benhavn/logistic_testing' target=\"_blank\">https://wandb.ai/malthe-pabst-it-universitetet-i-k-benhavn/logistic_testing</a><br>Synced 5 W&B file(s), 4 media file(s), 8 artifact file(s) and 0 other file(s)"
            ],
            "text/plain": [
              "<IPython.core.display.HTML object>"
            ]
          },
          "metadata": {},
          "output_type": "display_data"
        },
        {
          "data": {
            "text/html": [
              "Find logs at: <code>.\\wandb\\run-20250827_113113-9jkqsttg\\logs</code>"
            ],
            "text/plain": [
              "<IPython.core.display.HTML object>"
            ]
          },
          "metadata": {},
          "output_type": "display_data"
        },
        {
          "name": "stderr",
          "output_type": "stream",
          "text": [
            "\u001b[34m\u001b[1mwandb\u001b[0m: Sweep Agent: Waiting for job.\n",
            "\u001b[34m\u001b[1mwandb\u001b[0m: Job received.\n",
            "\u001b[34m\u001b[1mwandb\u001b[0m: Agent Starting Run: 5346or4m with config:\n",
            "\u001b[34m\u001b[1mwandb\u001b[0m: \tbinary: Binary\n",
            "\u001b[34m\u001b[1mwandb\u001b[0m: \tstrategy: stratified\n"
          ]
        },
        {
          "data": {
            "text/html": [
              "Ignoring project 'logistic_combined_sweep' when running a sweep."
            ],
            "text/plain": [
              "<IPython.core.display.HTML object>"
            ]
          },
          "metadata": {},
          "output_type": "display_data"
        },
        {
          "data": {
            "text/html": [
              "Tracking run with wandb version 0.21.1"
            ],
            "text/plain": [
              "<IPython.core.display.HTML object>"
            ]
          },
          "metadata": {},
          "output_type": "display_data"
        },
        {
          "data": {
            "text/html": [
              "Run data is saved locally in <code>c:\\Users\\nici9\\Documents\\University\\K\\Thesis\\New_Git\\Thesis_Neurodiversity\\notebooks\\eda\\wandb\\run-20250827_113137-5346or4m</code>"
            ],
            "text/plain": [
              "<IPython.core.display.HTML object>"
            ]
          },
          "metadata": {},
          "output_type": "display_data"
        },
        {
          "data": {
            "text/html": [
              "Syncing run <strong><a href='https://wandb.ai/malthe-pabst-it-universitetet-i-k-benhavn/logistic_testing/runs/5346or4m' target=\"_blank\">sunny-sweep-3</a></strong> to <a href='https://wandb.ai/malthe-pabst-it-universitetet-i-k-benhavn/logistic_testing' target=\"_blank\">Weights & Biases</a> (<a href='https://wandb.me/developer-guide' target=\"_blank\">docs</a>)<br>Sweep page: <a href='https://wandb.ai/malthe-pabst-it-universitetet-i-k-benhavn/logistic_testing/sweeps/8kuujfk2' target=\"_blank\">https://wandb.ai/malthe-pabst-it-universitetet-i-k-benhavn/logistic_testing/sweeps/8kuujfk2</a>"
            ],
            "text/plain": [
              "<IPython.core.display.HTML object>"
            ]
          },
          "metadata": {},
          "output_type": "display_data"
        },
        {
          "data": {
            "text/html": [
              " View project at <a href='https://wandb.ai/malthe-pabst-it-universitetet-i-k-benhavn/logistic_testing' target=\"_blank\">https://wandb.ai/malthe-pabst-it-universitetet-i-k-benhavn/logistic_testing</a>"
            ],
            "text/plain": [
              "<IPython.core.display.HTML object>"
            ]
          },
          "metadata": {},
          "output_type": "display_data"
        },
        {
          "data": {
            "text/html": [
              " View sweep at <a href='https://wandb.ai/malthe-pabst-it-universitetet-i-k-benhavn/logistic_testing/sweeps/8kuujfk2' target=\"_blank\">https://wandb.ai/malthe-pabst-it-universitetet-i-k-benhavn/logistic_testing/sweeps/8kuujfk2</a>"
            ],
            "text/plain": [
              "<IPython.core.display.HTML object>"
            ]
          },
          "metadata": {},
          "output_type": "display_data"
        },
        {
          "data": {
            "text/html": [
              " View run at <a href='https://wandb.ai/malthe-pabst-it-universitetet-i-k-benhavn/logistic_testing/runs/5346or4m' target=\"_blank\">https://wandb.ai/malthe-pabst-it-universitetet-i-k-benhavn/logistic_testing/runs/5346or4m</a>"
            ],
            "text/plain": [
              "<IPython.core.display.HTML object>"
            ]
          },
          "metadata": {},
          "output_type": "display_data"
        },
        {
          "data": {
            "text/html": [
              "Finishing previous runs because reinit is set to 'default'."
            ],
            "text/plain": [
              "<IPython.core.display.HTML object>"
            ]
          },
          "metadata": {},
          "output_type": "display_data"
        },
        {
          "name": "stderr",
          "output_type": "stream",
          "text": [
            "\u001b[34m\u001b[1mwandb\u001b[0m: \u001b[32m\u001b[41mERROR\u001b[0m The nbformat package was not found. It is required to save notebook history.\n"
          ]
        },
        {
          "data": {
            "text/html": [],
            "text/plain": [
              "<IPython.core.display.HTML object>"
            ]
          },
          "metadata": {},
          "output_type": "display_data"
        },
        {
          "data": {
            "text/html": [
              " View run <strong style=\"color:#cdcd00\">sunny-sweep-3</strong> at: <a href='https://wandb.ai/malthe-pabst-it-universitetet-i-k-benhavn/logistic_testing/runs/5346or4m' target=\"_blank\">https://wandb.ai/malthe-pabst-it-universitetet-i-k-benhavn/logistic_testing/runs/5346or4m</a><br> View project at: <a href='https://wandb.ai/malthe-pabst-it-universitetet-i-k-benhavn/logistic_testing' target=\"_blank\">https://wandb.ai/malthe-pabst-it-universitetet-i-k-benhavn/logistic_testing</a><br>Synced 5 W&B file(s), 0 media file(s), 0 artifact file(s) and 0 other file(s)"
            ],
            "text/plain": [
              "<IPython.core.display.HTML object>"
            ]
          },
          "metadata": {},
          "output_type": "display_data"
        },
        {
          "data": {
            "text/html": [
              "Find logs at: <code>.\\wandb\\run-20250827_113137-5346or4m\\logs</code>"
            ],
            "text/plain": [
              "<IPython.core.display.HTML object>"
            ]
          },
          "metadata": {},
          "output_type": "display_data"
        },
        {
          "data": {
            "text/html": [
              "Tracking run with wandb version 0.21.1"
            ],
            "text/plain": [
              "<IPython.core.display.HTML object>"
            ]
          },
          "metadata": {},
          "output_type": "display_data"
        },
        {
          "data": {
            "text/html": [
              "Run data is saved locally in <code>c:\\Users\\nici9\\Documents\\University\\K\\Thesis\\New_Git\\Thesis_Neurodiversity\\notebooks\\eda\\wandb\\run-20250827_113138-5346or4m</code>"
            ],
            "text/plain": [
              "<IPython.core.display.HTML object>"
            ]
          },
          "metadata": {},
          "output_type": "display_data"
        },
        {
          "data": {
            "text/html": [
              "Syncing run <strong><a href='https://wandb.ai/malthe-pabst-it-universitetet-i-k-benhavn/logistic_testing/runs/5346or4m' target=\"_blank\">sunny-sweep-3</a></strong> to <a href='https://wandb.ai/malthe-pabst-it-universitetet-i-k-benhavn/logistic_testing' target=\"_blank\">Weights & Biases</a> (<a href='https://wandb.me/developer-guide' target=\"_blank\">docs</a>)<br>Sweep page: <a href='https://wandb.ai/malthe-pabst-it-universitetet-i-k-benhavn/logistic_testing/sweeps/8kuujfk2' target=\"_blank\">https://wandb.ai/malthe-pabst-it-universitetet-i-k-benhavn/logistic_testing/sweeps/8kuujfk2</a>"
            ],
            "text/plain": [
              "<IPython.core.display.HTML object>"
            ]
          },
          "metadata": {},
          "output_type": "display_data"
        },
        {
          "data": {
            "text/html": [
              " View project at <a href='https://wandb.ai/malthe-pabst-it-universitetet-i-k-benhavn/logistic_testing' target=\"_blank\">https://wandb.ai/malthe-pabst-it-universitetet-i-k-benhavn/logistic_testing</a>"
            ],
            "text/plain": [
              "<IPython.core.display.HTML object>"
            ]
          },
          "metadata": {},
          "output_type": "display_data"
        },
        {
          "data": {
            "text/html": [
              " View sweep at <a href='https://wandb.ai/malthe-pabst-it-universitetet-i-k-benhavn/logistic_testing/sweeps/8kuujfk2' target=\"_blank\">https://wandb.ai/malthe-pabst-it-universitetet-i-k-benhavn/logistic_testing/sweeps/8kuujfk2</a>"
            ],
            "text/plain": [
              "<IPython.core.display.HTML object>"
            ]
          },
          "metadata": {},
          "output_type": "display_data"
        },
        {
          "data": {
            "text/html": [
              " View run at <a href='https://wandb.ai/malthe-pabst-it-universitetet-i-k-benhavn/logistic_testing/runs/5346or4m' target=\"_blank\">https://wandb.ai/malthe-pabst-it-universitetet-i-k-benhavn/logistic_testing/runs/5346or4m</a>"
            ],
            "text/plain": [
              "<IPython.core.display.HTML object>"
            ]
          },
          "metadata": {},
          "output_type": "display_data"
        },
        {
          "name": "stderr",
          "output_type": "stream",
          "text": [
            "\u001b[34m\u001b[1mwandb\u001b[0m: \n",
            "\u001b[34m\u001b[1mwandb\u001b[0m: Plotting Random_stratified.\n",
            "\u001b[34m\u001b[1mwandb\u001b[0m: Logged feature importances.\n"
          ]
        },
        {
          "name": "stdout",
          "output_type": "stream",
          "text": [
            "18.24431838214572 17.65403431303697\n"
          ]
        },
        {
          "name": "stderr",
          "output_type": "stream",
          "text": [
            "\u001b[34m\u001b[1mwandb\u001b[0m: Logged confusion matrix.\n",
            "\u001b[34m\u001b[1mwandb\u001b[0m: Logged summary metrics.\n",
            "\u001b[34m\u001b[1mwandb\u001b[0m: Logged class proportions.\n",
            "\u001b[34m\u001b[1mwandb\u001b[0m: Logged calibration curve.\n",
            "\u001b[34m\u001b[1mwandb\u001b[0m: Logged roc curve.\n",
            "\u001b[34m\u001b[1mwandb\u001b[0m: Logged precision-recall curve.\n"
          ]
        },
        {
          "data": {
            "text/html": [],
            "text/plain": [
              "<IPython.core.display.HTML object>"
            ]
          },
          "metadata": {},
          "output_type": "display_data"
        },
        {
          "data": {
            "text/html": [
              "<br>    <style><br>        .wandb-row {<br>            display: flex;<br>            flex-direction: row;<br>            flex-wrap: wrap;<br>            justify-content: flex-start;<br>            width: 100%;<br>        }<br>        .wandb-col {<br>            display: flex;<br>            flex-direction: column;<br>            flex-basis: 100%;<br>            flex: 1;<br>            padding: 10px;<br>        }<br>    </style><br><div class=\"wandb-row\"><div class=\"wandb-col\"><h3>Run history:</h3><br/><table class=\"wandb\"><tr><td>f1_score</td><td>▁</td></tr><tr><td>train_loss</td><td>▁</td></tr><tr><td>val_loss</td><td>▁</td></tr></table><br/></div><div class=\"wandb-col\"><h3>Run summary:</h3><br/><table class=\"wandb\"><tr><td>f1_score</td><td>0.55062</td></tr><tr><td>train_loss</td><td>17.65403</td></tr><tr><td>val_loss</td><td>18.24432</td></tr></table><br/></div></div>"
            ],
            "text/plain": [
              "<IPython.core.display.HTML object>"
            ]
          },
          "metadata": {},
          "output_type": "display_data"
        },
        {
          "data": {
            "text/html": [
              " View run <strong style=\"color:#cdcd00\">sunny-sweep-3</strong> at: <a href='https://wandb.ai/malthe-pabst-it-universitetet-i-k-benhavn/logistic_testing/runs/5346or4m' target=\"_blank\">https://wandb.ai/malthe-pabst-it-universitetet-i-k-benhavn/logistic_testing/runs/5346or4m</a><br> View project at: <a href='https://wandb.ai/malthe-pabst-it-universitetet-i-k-benhavn/logistic_testing' target=\"_blank\">https://wandb.ai/malthe-pabst-it-universitetet-i-k-benhavn/logistic_testing</a><br>Synced 5 W&B file(s), 4 media file(s), 8 artifact file(s) and 0 other file(s)"
            ],
            "text/plain": [
              "<IPython.core.display.HTML object>"
            ]
          },
          "metadata": {},
          "output_type": "display_data"
        },
        {
          "data": {
            "text/html": [
              "Find logs at: <code>.\\wandb\\run-20250827_113138-5346or4m\\logs</code>"
            ],
            "text/plain": [
              "<IPython.core.display.HTML object>"
            ]
          },
          "metadata": {},
          "output_type": "display_data"
        },
        {
          "name": "stderr",
          "output_type": "stream",
          "text": [
            "\u001b[34m\u001b[1mwandb\u001b[0m: Agent Starting Run: a8y3mk8c with config:\n",
            "\u001b[34m\u001b[1mwandb\u001b[0m: \tbinary: Binary\n",
            "\u001b[34m\u001b[1mwandb\u001b[0m: \tstrategy: uniform\n"
          ]
        },
        {
          "data": {
            "text/html": [
              "Ignoring project 'logistic_combined_sweep' when running a sweep."
            ],
            "text/plain": [
              "<IPython.core.display.HTML object>"
            ]
          },
          "metadata": {},
          "output_type": "display_data"
        },
        {
          "data": {
            "text/html": [
              "Tracking run with wandb version 0.21.1"
            ],
            "text/plain": [
              "<IPython.core.display.HTML object>"
            ]
          },
          "metadata": {},
          "output_type": "display_data"
        },
        {
          "data": {
            "text/html": [
              "Run data is saved locally in <code>c:\\Users\\nici9\\Documents\\University\\K\\Thesis\\New_Git\\Thesis_Neurodiversity\\notebooks\\eda\\wandb\\run-20250827_113153-a8y3mk8c</code>"
            ],
            "text/plain": [
              "<IPython.core.display.HTML object>"
            ]
          },
          "metadata": {},
          "output_type": "display_data"
        },
        {
          "data": {
            "text/html": [
              "Syncing run <strong><a href='https://wandb.ai/malthe-pabst-it-universitetet-i-k-benhavn/logistic_testing/runs/a8y3mk8c' target=\"_blank\">royal-sweep-4</a></strong> to <a href='https://wandb.ai/malthe-pabst-it-universitetet-i-k-benhavn/logistic_testing' target=\"_blank\">Weights & Biases</a> (<a href='https://wandb.me/developer-guide' target=\"_blank\">docs</a>)<br>Sweep page: <a href='https://wandb.ai/malthe-pabst-it-universitetet-i-k-benhavn/logistic_testing/sweeps/8kuujfk2' target=\"_blank\">https://wandb.ai/malthe-pabst-it-universitetet-i-k-benhavn/logistic_testing/sweeps/8kuujfk2</a>"
            ],
            "text/plain": [
              "<IPython.core.display.HTML object>"
            ]
          },
          "metadata": {},
          "output_type": "display_data"
        },
        {
          "data": {
            "text/html": [
              " View project at <a href='https://wandb.ai/malthe-pabst-it-universitetet-i-k-benhavn/logistic_testing' target=\"_blank\">https://wandb.ai/malthe-pabst-it-universitetet-i-k-benhavn/logistic_testing</a>"
            ],
            "text/plain": [
              "<IPython.core.display.HTML object>"
            ]
          },
          "metadata": {},
          "output_type": "display_data"
        },
        {
          "data": {
            "text/html": [
              " View sweep at <a href='https://wandb.ai/malthe-pabst-it-universitetet-i-k-benhavn/logistic_testing/sweeps/8kuujfk2' target=\"_blank\">https://wandb.ai/malthe-pabst-it-universitetet-i-k-benhavn/logistic_testing/sweeps/8kuujfk2</a>"
            ],
            "text/plain": [
              "<IPython.core.display.HTML object>"
            ]
          },
          "metadata": {},
          "output_type": "display_data"
        },
        {
          "data": {
            "text/html": [
              " View run at <a href='https://wandb.ai/malthe-pabst-it-universitetet-i-k-benhavn/logistic_testing/runs/a8y3mk8c' target=\"_blank\">https://wandb.ai/malthe-pabst-it-universitetet-i-k-benhavn/logistic_testing/runs/a8y3mk8c</a>"
            ],
            "text/plain": [
              "<IPython.core.display.HTML object>"
            ]
          },
          "metadata": {},
          "output_type": "display_data"
        },
        {
          "data": {
            "text/html": [
              "Finishing previous runs because reinit is set to 'default'."
            ],
            "text/plain": [
              "<IPython.core.display.HTML object>"
            ]
          },
          "metadata": {},
          "output_type": "display_data"
        },
        {
          "name": "stderr",
          "output_type": "stream",
          "text": [
            "\u001b[34m\u001b[1mwandb\u001b[0m: \u001b[32m\u001b[41mERROR\u001b[0m The nbformat package was not found. It is required to save notebook history.\n"
          ]
        },
        {
          "data": {
            "text/html": [],
            "text/plain": [
              "<IPython.core.display.HTML object>"
            ]
          },
          "metadata": {},
          "output_type": "display_data"
        },
        {
          "data": {
            "text/html": [
              " View run <strong style=\"color:#cdcd00\">royal-sweep-4</strong> at: <a href='https://wandb.ai/malthe-pabst-it-universitetet-i-k-benhavn/logistic_testing/runs/a8y3mk8c' target=\"_blank\">https://wandb.ai/malthe-pabst-it-universitetet-i-k-benhavn/logistic_testing/runs/a8y3mk8c</a><br> View project at: <a href='https://wandb.ai/malthe-pabst-it-universitetet-i-k-benhavn/logistic_testing' target=\"_blank\">https://wandb.ai/malthe-pabst-it-universitetet-i-k-benhavn/logistic_testing</a><br>Synced 5 W&B file(s), 0 media file(s), 0 artifact file(s) and 0 other file(s)"
            ],
            "text/plain": [
              "<IPython.core.display.HTML object>"
            ]
          },
          "metadata": {},
          "output_type": "display_data"
        },
        {
          "data": {
            "text/html": [
              "Find logs at: <code>.\\wandb\\run-20250827_113153-a8y3mk8c\\logs</code>"
            ],
            "text/plain": [
              "<IPython.core.display.HTML object>"
            ]
          },
          "metadata": {},
          "output_type": "display_data"
        },
        {
          "data": {
            "text/html": [
              "Tracking run with wandb version 0.21.1"
            ],
            "text/plain": [
              "<IPython.core.display.HTML object>"
            ]
          },
          "metadata": {},
          "output_type": "display_data"
        },
        {
          "data": {
            "text/html": [
              "Run data is saved locally in <code>c:\\Users\\nici9\\Documents\\University\\K\\Thesis\\New_Git\\Thesis_Neurodiversity\\notebooks\\eda\\wandb\\run-20250827_113154-a8y3mk8c</code>"
            ],
            "text/plain": [
              "<IPython.core.display.HTML object>"
            ]
          },
          "metadata": {},
          "output_type": "display_data"
        },
        {
          "data": {
            "text/html": [
              "Syncing run <strong><a href='https://wandb.ai/malthe-pabst-it-universitetet-i-k-benhavn/logistic_testing/runs/a8y3mk8c' target=\"_blank\">royal-sweep-4</a></strong> to <a href='https://wandb.ai/malthe-pabst-it-universitetet-i-k-benhavn/logistic_testing' target=\"_blank\">Weights & Biases</a> (<a href='https://wandb.me/developer-guide' target=\"_blank\">docs</a>)<br>Sweep page: <a href='https://wandb.ai/malthe-pabst-it-universitetet-i-k-benhavn/logistic_testing/sweeps/8kuujfk2' target=\"_blank\">https://wandb.ai/malthe-pabst-it-universitetet-i-k-benhavn/logistic_testing/sweeps/8kuujfk2</a>"
            ],
            "text/plain": [
              "<IPython.core.display.HTML object>"
            ]
          },
          "metadata": {},
          "output_type": "display_data"
        },
        {
          "data": {
            "text/html": [
              " View project at <a href='https://wandb.ai/malthe-pabst-it-universitetet-i-k-benhavn/logistic_testing' target=\"_blank\">https://wandb.ai/malthe-pabst-it-universitetet-i-k-benhavn/logistic_testing</a>"
            ],
            "text/plain": [
              "<IPython.core.display.HTML object>"
            ]
          },
          "metadata": {},
          "output_type": "display_data"
        },
        {
          "data": {
            "text/html": [
              " View sweep at <a href='https://wandb.ai/malthe-pabst-it-universitetet-i-k-benhavn/logistic_testing/sweeps/8kuujfk2' target=\"_blank\">https://wandb.ai/malthe-pabst-it-universitetet-i-k-benhavn/logistic_testing/sweeps/8kuujfk2</a>"
            ],
            "text/plain": [
              "<IPython.core.display.HTML object>"
            ]
          },
          "metadata": {},
          "output_type": "display_data"
        },
        {
          "data": {
            "text/html": [
              " View run at <a href='https://wandb.ai/malthe-pabst-it-universitetet-i-k-benhavn/logistic_testing/runs/a8y3mk8c' target=\"_blank\">https://wandb.ai/malthe-pabst-it-universitetet-i-k-benhavn/logistic_testing/runs/a8y3mk8c</a>"
            ],
            "text/plain": [
              "<IPython.core.display.HTML object>"
            ]
          },
          "metadata": {},
          "output_type": "display_data"
        },
        {
          "name": "stderr",
          "output_type": "stream",
          "text": [
            "\u001b[34m\u001b[1mwandb\u001b[0m: \n",
            "\u001b[34m\u001b[1mwandb\u001b[0m: Plotting Random_uniform.\n",
            "\u001b[34m\u001b[1mwandb\u001b[0m: Logged feature importances.\n"
          ]
        },
        {
          "name": "stdout",
          "output_type": "stream",
          "text": [
            "0.6931471805599453 0.6931471805599453\n"
          ]
        },
        {
          "name": "stderr",
          "output_type": "stream",
          "text": [
            "\u001b[34m\u001b[1mwandb\u001b[0m: Logged confusion matrix.\n",
            "\u001b[34m\u001b[1mwandb\u001b[0m: Logged summary metrics.\n",
            "\u001b[34m\u001b[1mwandb\u001b[0m: Logged class proportions.\n",
            "\u001b[34m\u001b[1mwandb\u001b[0m: Logged calibration curve.\n",
            "\u001b[34m\u001b[1mwandb\u001b[0m: Logged roc curve.\n",
            "\u001b[34m\u001b[1mwandb\u001b[0m: Logged precision-recall curve.\n"
          ]
        },
        {
          "data": {
            "text/html": [],
            "text/plain": [
              "<IPython.core.display.HTML object>"
            ]
          },
          "metadata": {},
          "output_type": "display_data"
        },
        {
          "data": {
            "text/html": [
              "<br>    <style><br>        .wandb-row {<br>            display: flex;<br>            flex-direction: row;<br>            flex-wrap: wrap;<br>            justify-content: flex-start;<br>            width: 100%;<br>        }<br>        .wandb-col {<br>            display: flex;<br>            flex-direction: column;<br>            flex-basis: 100%;<br>            flex: 1;<br>            padding: 10px;<br>        }<br>    </style><br><div class=\"wandb-row\"><div class=\"wandb-col\"><h3>Run history:</h3><br/><table class=\"wandb\"><tr><td>f1_score</td><td>▁</td></tr><tr><td>train_loss</td><td>▁</td></tr><tr><td>val_loss</td><td>▁</td></tr></table><br/></div><div class=\"wandb-col\"><h3>Run summary:</h3><br/><table class=\"wandb\"><tr><td>f1_score</td><td>0.50216</td></tr><tr><td>train_loss</td><td>0.69315</td></tr><tr><td>val_loss</td><td>0.69315</td></tr></table><br/></div></div>"
            ],
            "text/plain": [
              "<IPython.core.display.HTML object>"
            ]
          },
          "metadata": {},
          "output_type": "display_data"
        },
        {
          "data": {
            "text/html": [
              " View run <strong style=\"color:#cdcd00\">royal-sweep-4</strong> at: <a href='https://wandb.ai/malthe-pabst-it-universitetet-i-k-benhavn/logistic_testing/runs/a8y3mk8c' target=\"_blank\">https://wandb.ai/malthe-pabst-it-universitetet-i-k-benhavn/logistic_testing/runs/a8y3mk8c</a><br> View project at: <a href='https://wandb.ai/malthe-pabst-it-universitetet-i-k-benhavn/logistic_testing' target=\"_blank\">https://wandb.ai/malthe-pabst-it-universitetet-i-k-benhavn/logistic_testing</a><br>Synced 5 W&B file(s), 4 media file(s), 8 artifact file(s) and 0 other file(s)"
            ],
            "text/plain": [
              "<IPython.core.display.HTML object>"
            ]
          },
          "metadata": {},
          "output_type": "display_data"
        },
        {
          "data": {
            "text/html": [
              "Find logs at: <code>.\\wandb\\run-20250827_113154-a8y3mk8c\\logs</code>"
            ],
            "text/plain": [
              "<IPython.core.display.HTML object>"
            ]
          },
          "metadata": {},
          "output_type": "display_data"
        },
        {
          "name": "stderr",
          "output_type": "stream",
          "text": [
            "\u001b[34m\u001b[1mwandb\u001b[0m: Agent Starting Run: 1a5vz1g1 with config:\n",
            "\u001b[34m\u001b[1mwandb\u001b[0m: \tbinary: Multiclass\n",
            "\u001b[34m\u001b[1mwandb\u001b[0m: \tstrategy: most_frequent\n"
          ]
        },
        {
          "data": {
            "text/html": [
              "Ignoring project 'logistic_combined_sweep' when running a sweep."
            ],
            "text/plain": [
              "<IPython.core.display.HTML object>"
            ]
          },
          "metadata": {},
          "output_type": "display_data"
        },
        {
          "data": {
            "text/html": [
              "Tracking run with wandb version 0.21.1"
            ],
            "text/plain": [
              "<IPython.core.display.HTML object>"
            ]
          },
          "metadata": {},
          "output_type": "display_data"
        },
        {
          "data": {
            "text/html": [
              "Run data is saved locally in <code>c:\\Users\\nici9\\Documents\\University\\K\\Thesis\\New_Git\\Thesis_Neurodiversity\\notebooks\\eda\\wandb\\run-20250827_113209-1a5vz1g1</code>"
            ],
            "text/plain": [
              "<IPython.core.display.HTML object>"
            ]
          },
          "metadata": {},
          "output_type": "display_data"
        },
        {
          "data": {
            "text/html": [
              "Syncing run <strong><a href='https://wandb.ai/malthe-pabst-it-universitetet-i-k-benhavn/logistic_testing/runs/1a5vz1g1' target=\"_blank\">sweepy-sweep-5</a></strong> to <a href='https://wandb.ai/malthe-pabst-it-universitetet-i-k-benhavn/logistic_testing' target=\"_blank\">Weights & Biases</a> (<a href='https://wandb.me/developer-guide' target=\"_blank\">docs</a>)<br>Sweep page: <a href='https://wandb.ai/malthe-pabst-it-universitetet-i-k-benhavn/logistic_testing/sweeps/8kuujfk2' target=\"_blank\">https://wandb.ai/malthe-pabst-it-universitetet-i-k-benhavn/logistic_testing/sweeps/8kuujfk2</a>"
            ],
            "text/plain": [
              "<IPython.core.display.HTML object>"
            ]
          },
          "metadata": {},
          "output_type": "display_data"
        },
        {
          "data": {
            "text/html": [
              " View project at <a href='https://wandb.ai/malthe-pabst-it-universitetet-i-k-benhavn/logistic_testing' target=\"_blank\">https://wandb.ai/malthe-pabst-it-universitetet-i-k-benhavn/logistic_testing</a>"
            ],
            "text/plain": [
              "<IPython.core.display.HTML object>"
            ]
          },
          "metadata": {},
          "output_type": "display_data"
        },
        {
          "data": {
            "text/html": [
              " View sweep at <a href='https://wandb.ai/malthe-pabst-it-universitetet-i-k-benhavn/logistic_testing/sweeps/8kuujfk2' target=\"_blank\">https://wandb.ai/malthe-pabst-it-universitetet-i-k-benhavn/logistic_testing/sweeps/8kuujfk2</a>"
            ],
            "text/plain": [
              "<IPython.core.display.HTML object>"
            ]
          },
          "metadata": {},
          "output_type": "display_data"
        },
        {
          "data": {
            "text/html": [
              " View run at <a href='https://wandb.ai/malthe-pabst-it-universitetet-i-k-benhavn/logistic_testing/runs/1a5vz1g1' target=\"_blank\">https://wandb.ai/malthe-pabst-it-universitetet-i-k-benhavn/logistic_testing/runs/1a5vz1g1</a>"
            ],
            "text/plain": [
              "<IPython.core.display.HTML object>"
            ]
          },
          "metadata": {},
          "output_type": "display_data"
        },
        {
          "data": {
            "text/html": [
              "Finishing previous runs because reinit is set to 'default'."
            ],
            "text/plain": [
              "<IPython.core.display.HTML object>"
            ]
          },
          "metadata": {},
          "output_type": "display_data"
        },
        {
          "name": "stderr",
          "output_type": "stream",
          "text": [
            "\u001b[34m\u001b[1mwandb\u001b[0m: \u001b[32m\u001b[41mERROR\u001b[0m The nbformat package was not found. It is required to save notebook history.\n"
          ]
        },
        {
          "data": {
            "text/html": [],
            "text/plain": [
              "<IPython.core.display.HTML object>"
            ]
          },
          "metadata": {},
          "output_type": "display_data"
        },
        {
          "data": {
            "text/html": [
              " View run <strong style=\"color:#cdcd00\">sweepy-sweep-5</strong> at: <a href='https://wandb.ai/malthe-pabst-it-universitetet-i-k-benhavn/logistic_testing/runs/1a5vz1g1' target=\"_blank\">https://wandb.ai/malthe-pabst-it-universitetet-i-k-benhavn/logistic_testing/runs/1a5vz1g1</a><br> View project at: <a href='https://wandb.ai/malthe-pabst-it-universitetet-i-k-benhavn/logistic_testing' target=\"_blank\">https://wandb.ai/malthe-pabst-it-universitetet-i-k-benhavn/logistic_testing</a><br>Synced 5 W&B file(s), 0 media file(s), 0 artifact file(s) and 0 other file(s)"
            ],
            "text/plain": [
              "<IPython.core.display.HTML object>"
            ]
          },
          "metadata": {},
          "output_type": "display_data"
        },
        {
          "data": {
            "text/html": [
              "Find logs at: <code>.\\wandb\\run-20250827_113209-1a5vz1g1\\logs</code>"
            ],
            "text/plain": [
              "<IPython.core.display.HTML object>"
            ]
          },
          "metadata": {},
          "output_type": "display_data"
        },
        {
          "data": {
            "text/html": [
              "Tracking run with wandb version 0.21.1"
            ],
            "text/plain": [
              "<IPython.core.display.HTML object>"
            ]
          },
          "metadata": {},
          "output_type": "display_data"
        },
        {
          "data": {
            "text/html": [
              "Run data is saved locally in <code>c:\\Users\\nici9\\Documents\\University\\K\\Thesis\\New_Git\\Thesis_Neurodiversity\\notebooks\\eda\\wandb\\run-20250827_113210-1a5vz1g1</code>"
            ],
            "text/plain": [
              "<IPython.core.display.HTML object>"
            ]
          },
          "metadata": {},
          "output_type": "display_data"
        },
        {
          "data": {
            "text/html": [
              "Syncing run <strong><a href='https://wandb.ai/malthe-pabst-it-universitetet-i-k-benhavn/logistic_testing/runs/1a5vz1g1' target=\"_blank\">sweepy-sweep-5</a></strong> to <a href='https://wandb.ai/malthe-pabst-it-universitetet-i-k-benhavn/logistic_testing' target=\"_blank\">Weights & Biases</a> (<a href='https://wandb.me/developer-guide' target=\"_blank\">docs</a>)<br>Sweep page: <a href='https://wandb.ai/malthe-pabst-it-universitetet-i-k-benhavn/logistic_testing/sweeps/8kuujfk2' target=\"_blank\">https://wandb.ai/malthe-pabst-it-universitetet-i-k-benhavn/logistic_testing/sweeps/8kuujfk2</a>"
            ],
            "text/plain": [
              "<IPython.core.display.HTML object>"
            ]
          },
          "metadata": {},
          "output_type": "display_data"
        },
        {
          "data": {
            "text/html": [
              " View project at <a href='https://wandb.ai/malthe-pabst-it-universitetet-i-k-benhavn/logistic_testing' target=\"_blank\">https://wandb.ai/malthe-pabst-it-universitetet-i-k-benhavn/logistic_testing</a>"
            ],
            "text/plain": [
              "<IPython.core.display.HTML object>"
            ]
          },
          "metadata": {},
          "output_type": "display_data"
        },
        {
          "data": {
            "text/html": [
              " View sweep at <a href='https://wandb.ai/malthe-pabst-it-universitetet-i-k-benhavn/logistic_testing/sweeps/8kuujfk2' target=\"_blank\">https://wandb.ai/malthe-pabst-it-universitetet-i-k-benhavn/logistic_testing/sweeps/8kuujfk2</a>"
            ],
            "text/plain": [
              "<IPython.core.display.HTML object>"
            ]
          },
          "metadata": {},
          "output_type": "display_data"
        },
        {
          "data": {
            "text/html": [
              " View run at <a href='https://wandb.ai/malthe-pabst-it-universitetet-i-k-benhavn/logistic_testing/runs/1a5vz1g1' target=\"_blank\">https://wandb.ai/malthe-pabst-it-universitetet-i-k-benhavn/logistic_testing/runs/1a5vz1g1</a>"
            ],
            "text/plain": [
              "<IPython.core.display.HTML object>"
            ]
          },
          "metadata": {},
          "output_type": "display_data"
        },
        {
          "name": "stderr",
          "output_type": "stream",
          "text": [
            "\u001b[34m\u001b[1mwandb\u001b[0m: \n",
            "\u001b[34m\u001b[1mwandb\u001b[0m: Plotting Random_most_frequent.\n",
            "\u001b[34m\u001b[1mwandb\u001b[0m: Logged feature importances.\n"
          ]
        },
        {
          "name": "stdout",
          "output_type": "stream",
          "text": [
            "21.804185383540002 18.307887435742042\n"
          ]
        },
        {
          "name": "stderr",
          "output_type": "stream",
          "text": [
            "\u001b[34m\u001b[1mwandb\u001b[0m: Logged confusion matrix.\n",
            "\u001b[34m\u001b[1mwandb\u001b[0m: Logged summary metrics.\n",
            "\u001b[34m\u001b[1mwandb\u001b[0m: Logged class proportions.\n",
            "\u001b[34m\u001b[1mwandb\u001b[0m: Logged calibration curve.\n",
            "\u001b[34m\u001b[1mwandb\u001b[0m: Logged roc curve.\n",
            "\u001b[34m\u001b[1mwandb\u001b[0m: Logged precision-recall curve.\n"
          ]
        },
        {
          "data": {
            "text/html": [],
            "text/plain": [
              "<IPython.core.display.HTML object>"
            ]
          },
          "metadata": {},
          "output_type": "display_data"
        },
        {
          "data": {
            "text/html": [
              "<br>    <style><br>        .wandb-row {<br>            display: flex;<br>            flex-direction: row;<br>            flex-wrap: wrap;<br>            justify-content: flex-start;<br>            width: 100%;<br>        }<br>        .wandb-col {<br>            display: flex;<br>            flex-direction: column;<br>            flex-basis: 100%;<br>            flex: 1;<br>            padding: 10px;<br>        }<br>    </style><br><div class=\"wandb-row\"><div class=\"wandb-col\"><h3>Run history:</h3><br/><table class=\"wandb\"><tr><td>f1_score</td><td>▁</td></tr><tr><td>train_loss</td><td>▁</td></tr><tr><td>val_loss</td><td>▁</td></tr></table><br/></div><div class=\"wandb-col\"><h3>Run summary:</h3><br/><table class=\"wandb\"><tr><td>f1_score</td><td>0.56637</td></tr><tr><td>train_loss</td><td>18.30789</td></tr><tr><td>val_loss</td><td>21.80419</td></tr></table><br/></div></div>"
            ],
            "text/plain": [
              "<IPython.core.display.HTML object>"
            ]
          },
          "metadata": {},
          "output_type": "display_data"
        },
        {
          "data": {
            "text/html": [
              " View run <strong style=\"color:#cdcd00\">sweepy-sweep-5</strong> at: <a href='https://wandb.ai/malthe-pabst-it-universitetet-i-k-benhavn/logistic_testing/runs/1a5vz1g1' target=\"_blank\">https://wandb.ai/malthe-pabst-it-universitetet-i-k-benhavn/logistic_testing/runs/1a5vz1g1</a><br> View project at: <a href='https://wandb.ai/malthe-pabst-it-universitetet-i-k-benhavn/logistic_testing' target=\"_blank\">https://wandb.ai/malthe-pabst-it-universitetet-i-k-benhavn/logistic_testing</a><br>Synced 5 W&B file(s), 4 media file(s), 8 artifact file(s) and 0 other file(s)"
            ],
            "text/plain": [
              "<IPython.core.display.HTML object>"
            ]
          },
          "metadata": {},
          "output_type": "display_data"
        },
        {
          "data": {
            "text/html": [
              "Find logs at: <code>.\\wandb\\run-20250827_113210-1a5vz1g1\\logs</code>"
            ],
            "text/plain": [
              "<IPython.core.display.HTML object>"
            ]
          },
          "metadata": {},
          "output_type": "display_data"
        },
        {
          "name": "stderr",
          "output_type": "stream",
          "text": [
            "\u001b[34m\u001b[1mwandb\u001b[0m: Agent Starting Run: ni6l72pk with config:\n",
            "\u001b[34m\u001b[1mwandb\u001b[0m: \tbinary: Multiclass\n",
            "\u001b[34m\u001b[1mwandb\u001b[0m: \tstrategy: prior\n"
          ]
        },
        {
          "data": {
            "text/html": [
              "Ignoring project 'logistic_combined_sweep' when running a sweep."
            ],
            "text/plain": [
              "<IPython.core.display.HTML object>"
            ]
          },
          "metadata": {},
          "output_type": "display_data"
        },
        {
          "data": {
            "text/html": [
              "Tracking run with wandb version 0.21.1"
            ],
            "text/plain": [
              "<IPython.core.display.HTML object>"
            ]
          },
          "metadata": {},
          "output_type": "display_data"
        },
        {
          "data": {
            "text/html": [
              "Run data is saved locally in <code>c:\\Users\\nici9\\Documents\\University\\K\\Thesis\\New_Git\\Thesis_Neurodiversity\\notebooks\\eda\\wandb\\run-20250827_113230-ni6l72pk</code>"
            ],
            "text/plain": [
              "<IPython.core.display.HTML object>"
            ]
          },
          "metadata": {},
          "output_type": "display_data"
        },
        {
          "data": {
            "text/html": [
              "Syncing run <strong><a href='https://wandb.ai/malthe-pabst-it-universitetet-i-k-benhavn/logistic_testing/runs/ni6l72pk' target=\"_blank\">pretty-sweep-6</a></strong> to <a href='https://wandb.ai/malthe-pabst-it-universitetet-i-k-benhavn/logistic_testing' target=\"_blank\">Weights & Biases</a> (<a href='https://wandb.me/developer-guide' target=\"_blank\">docs</a>)<br>Sweep page: <a href='https://wandb.ai/malthe-pabst-it-universitetet-i-k-benhavn/logistic_testing/sweeps/8kuujfk2' target=\"_blank\">https://wandb.ai/malthe-pabst-it-universitetet-i-k-benhavn/logistic_testing/sweeps/8kuujfk2</a>"
            ],
            "text/plain": [
              "<IPython.core.display.HTML object>"
            ]
          },
          "metadata": {},
          "output_type": "display_data"
        },
        {
          "data": {
            "text/html": [
              " View project at <a href='https://wandb.ai/malthe-pabst-it-universitetet-i-k-benhavn/logistic_testing' target=\"_blank\">https://wandb.ai/malthe-pabst-it-universitetet-i-k-benhavn/logistic_testing</a>"
            ],
            "text/plain": [
              "<IPython.core.display.HTML object>"
            ]
          },
          "metadata": {},
          "output_type": "display_data"
        },
        {
          "data": {
            "text/html": [
              " View sweep at <a href='https://wandb.ai/malthe-pabst-it-universitetet-i-k-benhavn/logistic_testing/sweeps/8kuujfk2' target=\"_blank\">https://wandb.ai/malthe-pabst-it-universitetet-i-k-benhavn/logistic_testing/sweeps/8kuujfk2</a>"
            ],
            "text/plain": [
              "<IPython.core.display.HTML object>"
            ]
          },
          "metadata": {},
          "output_type": "display_data"
        },
        {
          "data": {
            "text/html": [
              " View run at <a href='https://wandb.ai/malthe-pabst-it-universitetet-i-k-benhavn/logistic_testing/runs/ni6l72pk' target=\"_blank\">https://wandb.ai/malthe-pabst-it-universitetet-i-k-benhavn/logistic_testing/runs/ni6l72pk</a>"
            ],
            "text/plain": [
              "<IPython.core.display.HTML object>"
            ]
          },
          "metadata": {},
          "output_type": "display_data"
        },
        {
          "data": {
            "text/html": [
              "Finishing previous runs because reinit is set to 'default'."
            ],
            "text/plain": [
              "<IPython.core.display.HTML object>"
            ]
          },
          "metadata": {},
          "output_type": "display_data"
        },
        {
          "name": "stderr",
          "output_type": "stream",
          "text": [
            "\u001b[34m\u001b[1mwandb\u001b[0m: \u001b[32m\u001b[41mERROR\u001b[0m The nbformat package was not found. It is required to save notebook history.\n"
          ]
        },
        {
          "data": {
            "text/html": [],
            "text/plain": [
              "<IPython.core.display.HTML object>"
            ]
          },
          "metadata": {},
          "output_type": "display_data"
        },
        {
          "data": {
            "text/html": [
              " View run <strong style=\"color:#cdcd00\">pretty-sweep-6</strong> at: <a href='https://wandb.ai/malthe-pabst-it-universitetet-i-k-benhavn/logistic_testing/runs/ni6l72pk' target=\"_blank\">https://wandb.ai/malthe-pabst-it-universitetet-i-k-benhavn/logistic_testing/runs/ni6l72pk</a><br> View project at: <a href='https://wandb.ai/malthe-pabst-it-universitetet-i-k-benhavn/logistic_testing' target=\"_blank\">https://wandb.ai/malthe-pabst-it-universitetet-i-k-benhavn/logistic_testing</a><br>Synced 5 W&B file(s), 0 media file(s), 0 artifact file(s) and 0 other file(s)"
            ],
            "text/plain": [
              "<IPython.core.display.HTML object>"
            ]
          },
          "metadata": {},
          "output_type": "display_data"
        },
        {
          "data": {
            "text/html": [
              "Find logs at: <code>.\\wandb\\run-20250827_113230-ni6l72pk\\logs</code>"
            ],
            "text/plain": [
              "<IPython.core.display.HTML object>"
            ]
          },
          "metadata": {},
          "output_type": "display_data"
        },
        {
          "data": {
            "text/html": [
              "Tracking run with wandb version 0.21.1"
            ],
            "text/plain": [
              "<IPython.core.display.HTML object>"
            ]
          },
          "metadata": {},
          "output_type": "display_data"
        },
        {
          "data": {
            "text/html": [
              "Run data is saved locally in <code>c:\\Users\\nici9\\Documents\\University\\K\\Thesis\\New_Git\\Thesis_Neurodiversity\\notebooks\\eda\\wandb\\run-20250827_113231-ni6l72pk</code>"
            ],
            "text/plain": [
              "<IPython.core.display.HTML object>"
            ]
          },
          "metadata": {},
          "output_type": "display_data"
        },
        {
          "data": {
            "text/html": [
              "Syncing run <strong><a href='https://wandb.ai/malthe-pabst-it-universitetet-i-k-benhavn/logistic_testing/runs/ni6l72pk' target=\"_blank\">pretty-sweep-6</a></strong> to <a href='https://wandb.ai/malthe-pabst-it-universitetet-i-k-benhavn/logistic_testing' target=\"_blank\">Weights & Biases</a> (<a href='https://wandb.me/developer-guide' target=\"_blank\">docs</a>)<br>Sweep page: <a href='https://wandb.ai/malthe-pabst-it-universitetet-i-k-benhavn/logistic_testing/sweeps/8kuujfk2' target=\"_blank\">https://wandb.ai/malthe-pabst-it-universitetet-i-k-benhavn/logistic_testing/sweeps/8kuujfk2</a>"
            ],
            "text/plain": [
              "<IPython.core.display.HTML object>"
            ]
          },
          "metadata": {},
          "output_type": "display_data"
        },
        {
          "data": {
            "text/html": [
              " View project at <a href='https://wandb.ai/malthe-pabst-it-universitetet-i-k-benhavn/logistic_testing' target=\"_blank\">https://wandb.ai/malthe-pabst-it-universitetet-i-k-benhavn/logistic_testing</a>"
            ],
            "text/plain": [
              "<IPython.core.display.HTML object>"
            ]
          },
          "metadata": {},
          "output_type": "display_data"
        },
        {
          "data": {
            "text/html": [
              " View sweep at <a href='https://wandb.ai/malthe-pabst-it-universitetet-i-k-benhavn/logistic_testing/sweeps/8kuujfk2' target=\"_blank\">https://wandb.ai/malthe-pabst-it-universitetet-i-k-benhavn/logistic_testing/sweeps/8kuujfk2</a>"
            ],
            "text/plain": [
              "<IPython.core.display.HTML object>"
            ]
          },
          "metadata": {},
          "output_type": "display_data"
        },
        {
          "data": {
            "text/html": [
              " View run at <a href='https://wandb.ai/malthe-pabst-it-universitetet-i-k-benhavn/logistic_testing/runs/ni6l72pk' target=\"_blank\">https://wandb.ai/malthe-pabst-it-universitetet-i-k-benhavn/logistic_testing/runs/ni6l72pk</a>"
            ],
            "text/plain": [
              "<IPython.core.display.HTML object>"
            ]
          },
          "metadata": {},
          "output_type": "display_data"
        },
        {
          "name": "stderr",
          "output_type": "stream",
          "text": [
            "\u001b[34m\u001b[1mwandb\u001b[0m: \n",
            "\u001b[34m\u001b[1mwandb\u001b[0m: Plotting Random_prior.\n",
            "\u001b[34m\u001b[1mwandb\u001b[0m: Logged feature importances.\n"
          ]
        },
        {
          "name": "stdout",
          "output_type": "stream",
          "text": [
            "1.1967864518971174 1.1349710218787978\n"
          ]
        },
        {
          "name": "stderr",
          "output_type": "stream",
          "text": [
            "\u001b[34m\u001b[1mwandb\u001b[0m: Logged confusion matrix.\n",
            "\u001b[34m\u001b[1mwandb\u001b[0m: Logged summary metrics.\n",
            "\u001b[34m\u001b[1mwandb\u001b[0m: Logged class proportions.\n",
            "\u001b[34m\u001b[1mwandb\u001b[0m: Logged calibration curve.\n",
            "\u001b[34m\u001b[1mwandb\u001b[0m: Logged roc curve.\n",
            "\u001b[34m\u001b[1mwandb\u001b[0m: Logged precision-recall curve.\n"
          ]
        },
        {
          "data": {
            "text/html": [],
            "text/plain": [
              "<IPython.core.display.HTML object>"
            ]
          },
          "metadata": {},
          "output_type": "display_data"
        },
        {
          "data": {
            "text/html": [
              "<br>    <style><br>        .wandb-row {<br>            display: flex;<br>            flex-direction: row;<br>            flex-wrap: wrap;<br>            justify-content: flex-start;<br>            width: 100%;<br>        }<br>        .wandb-col {<br>            display: flex;<br>            flex-direction: column;<br>            flex-basis: 100%;<br>            flex: 1;<br>            padding: 10px;<br>        }<br>    </style><br><div class=\"wandb-row\"><div class=\"wandb-col\"><h3>Run history:</h3><br/><table class=\"wandb\"><tr><td>f1_score</td><td>▁</td></tr><tr><td>train_loss</td><td>▁</td></tr><tr><td>val_loss</td><td>▁</td></tr></table><br/></div><div class=\"wandb-col\"><h3>Run summary:</h3><br/><table class=\"wandb\"><tr><td>f1_score</td><td>0.56637</td></tr><tr><td>train_loss</td><td>1.13497</td></tr><tr><td>val_loss</td><td>1.19679</td></tr></table><br/></div></div>"
            ],
            "text/plain": [
              "<IPython.core.display.HTML object>"
            ]
          },
          "metadata": {},
          "output_type": "display_data"
        },
        {
          "data": {
            "text/html": [
              " View run <strong style=\"color:#cdcd00\">pretty-sweep-6</strong> at: <a href='https://wandb.ai/malthe-pabst-it-universitetet-i-k-benhavn/logistic_testing/runs/ni6l72pk' target=\"_blank\">https://wandb.ai/malthe-pabst-it-universitetet-i-k-benhavn/logistic_testing/runs/ni6l72pk</a><br> View project at: <a href='https://wandb.ai/malthe-pabst-it-universitetet-i-k-benhavn/logistic_testing' target=\"_blank\">https://wandb.ai/malthe-pabst-it-universitetet-i-k-benhavn/logistic_testing</a><br>Synced 5 W&B file(s), 4 media file(s), 8 artifact file(s) and 0 other file(s)"
            ],
            "text/plain": [
              "<IPython.core.display.HTML object>"
            ]
          },
          "metadata": {},
          "output_type": "display_data"
        },
        {
          "data": {
            "text/html": [
              "Find logs at: <code>.\\wandb\\run-20250827_113231-ni6l72pk\\logs</code>"
            ],
            "text/plain": [
              "<IPython.core.display.HTML object>"
            ]
          },
          "metadata": {},
          "output_type": "display_data"
        },
        {
          "name": "stderr",
          "output_type": "stream",
          "text": [
            "\u001b[34m\u001b[1mwandb\u001b[0m: Sweep Agent: Waiting for job.\n",
            "\u001b[34m\u001b[1mwandb\u001b[0m: Job received.\n",
            "\u001b[34m\u001b[1mwandb\u001b[0m: Agent Starting Run: fjx1xgcw with config:\n",
            "\u001b[34m\u001b[1mwandb\u001b[0m: \tbinary: Multiclass\n",
            "\u001b[34m\u001b[1mwandb\u001b[0m: \tstrategy: stratified\n"
          ]
        },
        {
          "data": {
            "text/html": [
              "Ignoring project 'logistic_combined_sweep' when running a sweep."
            ],
            "text/plain": [
              "<IPython.core.display.HTML object>"
            ]
          },
          "metadata": {},
          "output_type": "display_data"
        },
        {
          "data": {
            "text/html": [
              "Tracking run with wandb version 0.21.1"
            ],
            "text/plain": [
              "<IPython.core.display.HTML object>"
            ]
          },
          "metadata": {},
          "output_type": "display_data"
        },
        {
          "data": {
            "text/html": [
              "Run data is saved locally in <code>c:\\Users\\nici9\\Documents\\University\\K\\Thesis\\New_Git\\Thesis_Neurodiversity\\notebooks\\eda\\wandb\\run-20250827_113256-fjx1xgcw</code>"
            ],
            "text/plain": [
              "<IPython.core.display.HTML object>"
            ]
          },
          "metadata": {},
          "output_type": "display_data"
        },
        {
          "data": {
            "text/html": [
              "Syncing run <strong><a href='https://wandb.ai/malthe-pabst-it-universitetet-i-k-benhavn/logistic_testing/runs/fjx1xgcw' target=\"_blank\">jumping-sweep-7</a></strong> to <a href='https://wandb.ai/malthe-pabst-it-universitetet-i-k-benhavn/logistic_testing' target=\"_blank\">Weights & Biases</a> (<a href='https://wandb.me/developer-guide' target=\"_blank\">docs</a>)<br>Sweep page: <a href='https://wandb.ai/malthe-pabst-it-universitetet-i-k-benhavn/logistic_testing/sweeps/8kuujfk2' target=\"_blank\">https://wandb.ai/malthe-pabst-it-universitetet-i-k-benhavn/logistic_testing/sweeps/8kuujfk2</a>"
            ],
            "text/plain": [
              "<IPython.core.display.HTML object>"
            ]
          },
          "metadata": {},
          "output_type": "display_data"
        },
        {
          "data": {
            "text/html": [
              " View project at <a href='https://wandb.ai/malthe-pabst-it-universitetet-i-k-benhavn/logistic_testing' target=\"_blank\">https://wandb.ai/malthe-pabst-it-universitetet-i-k-benhavn/logistic_testing</a>"
            ],
            "text/plain": [
              "<IPython.core.display.HTML object>"
            ]
          },
          "metadata": {},
          "output_type": "display_data"
        },
        {
          "data": {
            "text/html": [
              " View sweep at <a href='https://wandb.ai/malthe-pabst-it-universitetet-i-k-benhavn/logistic_testing/sweeps/8kuujfk2' target=\"_blank\">https://wandb.ai/malthe-pabst-it-universitetet-i-k-benhavn/logistic_testing/sweeps/8kuujfk2</a>"
            ],
            "text/plain": [
              "<IPython.core.display.HTML object>"
            ]
          },
          "metadata": {},
          "output_type": "display_data"
        },
        {
          "data": {
            "text/html": [
              " View run at <a href='https://wandb.ai/malthe-pabst-it-universitetet-i-k-benhavn/logistic_testing/runs/fjx1xgcw' target=\"_blank\">https://wandb.ai/malthe-pabst-it-universitetet-i-k-benhavn/logistic_testing/runs/fjx1xgcw</a>"
            ],
            "text/plain": [
              "<IPython.core.display.HTML object>"
            ]
          },
          "metadata": {},
          "output_type": "display_data"
        },
        {
          "data": {
            "text/html": [
              "Finishing previous runs because reinit is set to 'default'."
            ],
            "text/plain": [
              "<IPython.core.display.HTML object>"
            ]
          },
          "metadata": {},
          "output_type": "display_data"
        },
        {
          "name": "stderr",
          "output_type": "stream",
          "text": [
            "\u001b[34m\u001b[1mwandb\u001b[0m: \u001b[32m\u001b[41mERROR\u001b[0m The nbformat package was not found. It is required to save notebook history.\n"
          ]
        },
        {
          "data": {
            "text/html": [],
            "text/plain": [
              "<IPython.core.display.HTML object>"
            ]
          },
          "metadata": {},
          "output_type": "display_data"
        },
        {
          "data": {
            "text/html": [
              " View run <strong style=\"color:#cdcd00\">jumping-sweep-7</strong> at: <a href='https://wandb.ai/malthe-pabst-it-universitetet-i-k-benhavn/logistic_testing/runs/fjx1xgcw' target=\"_blank\">https://wandb.ai/malthe-pabst-it-universitetet-i-k-benhavn/logistic_testing/runs/fjx1xgcw</a><br> View project at: <a href='https://wandb.ai/malthe-pabst-it-universitetet-i-k-benhavn/logistic_testing' target=\"_blank\">https://wandb.ai/malthe-pabst-it-universitetet-i-k-benhavn/logistic_testing</a><br>Synced 5 W&B file(s), 0 media file(s), 0 artifact file(s) and 0 other file(s)"
            ],
            "text/plain": [
              "<IPython.core.display.HTML object>"
            ]
          },
          "metadata": {},
          "output_type": "display_data"
        },
        {
          "data": {
            "text/html": [
              "Find logs at: <code>.\\wandb\\run-20250827_113256-fjx1xgcw\\logs</code>"
            ],
            "text/plain": [
              "<IPython.core.display.HTML object>"
            ]
          },
          "metadata": {},
          "output_type": "display_data"
        },
        {
          "data": {
            "text/html": [
              "Tracking run with wandb version 0.21.1"
            ],
            "text/plain": [
              "<IPython.core.display.HTML object>"
            ]
          },
          "metadata": {},
          "output_type": "display_data"
        },
        {
          "data": {
            "text/html": [
              "Run data is saved locally in <code>c:\\Users\\nici9\\Documents\\University\\K\\Thesis\\New_Git\\Thesis_Neurodiversity\\notebooks\\eda\\wandb\\run-20250827_113257-fjx1xgcw</code>"
            ],
            "text/plain": [
              "<IPython.core.display.HTML object>"
            ]
          },
          "metadata": {},
          "output_type": "display_data"
        },
        {
          "data": {
            "text/html": [
              "Syncing run <strong><a href='https://wandb.ai/malthe-pabst-it-universitetet-i-k-benhavn/logistic_testing/runs/fjx1xgcw' target=\"_blank\">jumping-sweep-7</a></strong> to <a href='https://wandb.ai/malthe-pabst-it-universitetet-i-k-benhavn/logistic_testing' target=\"_blank\">Weights & Biases</a> (<a href='https://wandb.me/developer-guide' target=\"_blank\">docs</a>)<br>Sweep page: <a href='https://wandb.ai/malthe-pabst-it-universitetet-i-k-benhavn/logistic_testing/sweeps/8kuujfk2' target=\"_blank\">https://wandb.ai/malthe-pabst-it-universitetet-i-k-benhavn/logistic_testing/sweeps/8kuujfk2</a>"
            ],
            "text/plain": [
              "<IPython.core.display.HTML object>"
            ]
          },
          "metadata": {},
          "output_type": "display_data"
        },
        {
          "data": {
            "text/html": [
              " View project at <a href='https://wandb.ai/malthe-pabst-it-universitetet-i-k-benhavn/logistic_testing' target=\"_blank\">https://wandb.ai/malthe-pabst-it-universitetet-i-k-benhavn/logistic_testing</a>"
            ],
            "text/plain": [
              "<IPython.core.display.HTML object>"
            ]
          },
          "metadata": {},
          "output_type": "display_data"
        },
        {
          "data": {
            "text/html": [
              " View sweep at <a href='https://wandb.ai/malthe-pabst-it-universitetet-i-k-benhavn/logistic_testing/sweeps/8kuujfk2' target=\"_blank\">https://wandb.ai/malthe-pabst-it-universitetet-i-k-benhavn/logistic_testing/sweeps/8kuujfk2</a>"
            ],
            "text/plain": [
              "<IPython.core.display.HTML object>"
            ]
          },
          "metadata": {},
          "output_type": "display_data"
        },
        {
          "data": {
            "text/html": [
              " View run at <a href='https://wandb.ai/malthe-pabst-it-universitetet-i-k-benhavn/logistic_testing/runs/fjx1xgcw' target=\"_blank\">https://wandb.ai/malthe-pabst-it-universitetet-i-k-benhavn/logistic_testing/runs/fjx1xgcw</a>"
            ],
            "text/plain": [
              "<IPython.core.display.HTML object>"
            ]
          },
          "metadata": {},
          "output_type": "display_data"
        },
        {
          "name": "stderr",
          "output_type": "stream",
          "text": [
            "\u001b[34m\u001b[1mwandb\u001b[0m: \n",
            "\u001b[34m\u001b[1mwandb\u001b[0m: Plotting Random_stratified.\n",
            "\u001b[34m\u001b[1mwandb\u001b[0m: Logged feature importances.\n"
          ]
        },
        {
          "name": "stdout",
          "output_type": "stream",
          "text": [
            "26.699002510457145 22.639664373663148\n"
          ]
        },
        {
          "name": "stderr",
          "output_type": "stream",
          "text": [
            "\u001b[34m\u001b[1mwandb\u001b[0m: Logged confusion matrix.\n",
            "\u001b[34m\u001b[1mwandb\u001b[0m: Logged summary metrics.\n",
            "\u001b[34m\u001b[1mwandb\u001b[0m: Logged class proportions.\n",
            "\u001b[34m\u001b[1mwandb\u001b[0m: Logged calibration curve.\n",
            "\u001b[34m\u001b[1mwandb\u001b[0m: Logged roc curve.\n",
            "\u001b[34m\u001b[1mwandb\u001b[0m: Logged precision-recall curve.\n"
          ]
        },
        {
          "data": {
            "text/html": [],
            "text/plain": [
              "<IPython.core.display.HTML object>"
            ]
          },
          "metadata": {},
          "output_type": "display_data"
        },
        {
          "data": {
            "text/html": [
              "<br>    <style><br>        .wandb-row {<br>            display: flex;<br>            flex-direction: row;<br>            flex-wrap: wrap;<br>            justify-content: flex-start;<br>            width: 100%;<br>        }<br>        .wandb-col {<br>            display: flex;<br>            flex-direction: column;<br>            flex-basis: 100%;<br>            flex: 1;<br>            padding: 10px;<br>        }<br>    </style><br><div class=\"wandb-row\"><div class=\"wandb-col\"><h3>Run history:</h3><br/><table class=\"wandb\"><tr><td>f1_score</td><td>▁</td></tr><tr><td>train_loss</td><td>▁</td></tr><tr><td>val_loss</td><td>▁</td></tr></table><br/></div><div class=\"wandb-col\"><h3>Run summary:</h3><br/><table class=\"wandb\"><tr><td>f1_score</td><td>0.53125</td></tr><tr><td>train_loss</td><td>22.63966</td></tr><tr><td>val_loss</td><td>26.699</td></tr></table><br/></div></div>"
            ],
            "text/plain": [
              "<IPython.core.display.HTML object>"
            ]
          },
          "metadata": {},
          "output_type": "display_data"
        },
        {
          "data": {
            "text/html": [
              " View run <strong style=\"color:#cdcd00\">jumping-sweep-7</strong> at: <a href='https://wandb.ai/malthe-pabst-it-universitetet-i-k-benhavn/logistic_testing/runs/fjx1xgcw' target=\"_blank\">https://wandb.ai/malthe-pabst-it-universitetet-i-k-benhavn/logistic_testing/runs/fjx1xgcw</a><br> View project at: <a href='https://wandb.ai/malthe-pabst-it-universitetet-i-k-benhavn/logistic_testing' target=\"_blank\">https://wandb.ai/malthe-pabst-it-universitetet-i-k-benhavn/logistic_testing</a><br>Synced 5 W&B file(s), 4 media file(s), 8 artifact file(s) and 0 other file(s)"
            ],
            "text/plain": [
              "<IPython.core.display.HTML object>"
            ]
          },
          "metadata": {},
          "output_type": "display_data"
        },
        {
          "data": {
            "text/html": [
              "Find logs at: <code>.\\wandb\\run-20250827_113257-fjx1xgcw\\logs</code>"
            ],
            "text/plain": [
              "<IPython.core.display.HTML object>"
            ]
          },
          "metadata": {},
          "output_type": "display_data"
        },
        {
          "name": "stderr",
          "output_type": "stream",
          "text": [
            "\u001b[34m\u001b[1mwandb\u001b[0m: Agent Starting Run: 5m2ul372 with config:\n",
            "\u001b[34m\u001b[1mwandb\u001b[0m: \tbinary: Multiclass\n",
            "\u001b[34m\u001b[1mwandb\u001b[0m: \tstrategy: uniform\n"
          ]
        },
        {
          "data": {
            "text/html": [
              "Ignoring project 'logistic_combined_sweep' when running a sweep."
            ],
            "text/plain": [
              "<IPython.core.display.HTML object>"
            ]
          },
          "metadata": {},
          "output_type": "display_data"
        },
        {
          "data": {
            "text/html": [
              "Tracking run with wandb version 0.21.1"
            ],
            "text/plain": [
              "<IPython.core.display.HTML object>"
            ]
          },
          "metadata": {},
          "output_type": "display_data"
        },
        {
          "data": {
            "text/html": [
              "Run data is saved locally in <code>c:\\Users\\nici9\\Documents\\University\\K\\Thesis\\New_Git\\Thesis_Neurodiversity\\notebooks\\eda\\wandb\\run-20250827_113311-5m2ul372</code>"
            ],
            "text/plain": [
              "<IPython.core.display.HTML object>"
            ]
          },
          "metadata": {},
          "output_type": "display_data"
        },
        {
          "data": {
            "text/html": [
              "Syncing run <strong><a href='https://wandb.ai/malthe-pabst-it-universitetet-i-k-benhavn/logistic_testing/runs/5m2ul372' target=\"_blank\">sparkling-sweep-8</a></strong> to <a href='https://wandb.ai/malthe-pabst-it-universitetet-i-k-benhavn/logistic_testing' target=\"_blank\">Weights & Biases</a> (<a href='https://wandb.me/developer-guide' target=\"_blank\">docs</a>)<br>Sweep page: <a href='https://wandb.ai/malthe-pabst-it-universitetet-i-k-benhavn/logistic_testing/sweeps/8kuujfk2' target=\"_blank\">https://wandb.ai/malthe-pabst-it-universitetet-i-k-benhavn/logistic_testing/sweeps/8kuujfk2</a>"
            ],
            "text/plain": [
              "<IPython.core.display.HTML object>"
            ]
          },
          "metadata": {},
          "output_type": "display_data"
        },
        {
          "data": {
            "text/html": [
              " View project at <a href='https://wandb.ai/malthe-pabst-it-universitetet-i-k-benhavn/logistic_testing' target=\"_blank\">https://wandb.ai/malthe-pabst-it-universitetet-i-k-benhavn/logistic_testing</a>"
            ],
            "text/plain": [
              "<IPython.core.display.HTML object>"
            ]
          },
          "metadata": {},
          "output_type": "display_data"
        },
        {
          "data": {
            "text/html": [
              " View sweep at <a href='https://wandb.ai/malthe-pabst-it-universitetet-i-k-benhavn/logistic_testing/sweeps/8kuujfk2' target=\"_blank\">https://wandb.ai/malthe-pabst-it-universitetet-i-k-benhavn/logistic_testing/sweeps/8kuujfk2</a>"
            ],
            "text/plain": [
              "<IPython.core.display.HTML object>"
            ]
          },
          "metadata": {},
          "output_type": "display_data"
        },
        {
          "data": {
            "text/html": [
              " View run at <a href='https://wandb.ai/malthe-pabst-it-universitetet-i-k-benhavn/logistic_testing/runs/5m2ul372' target=\"_blank\">https://wandb.ai/malthe-pabst-it-universitetet-i-k-benhavn/logistic_testing/runs/5m2ul372</a>"
            ],
            "text/plain": [
              "<IPython.core.display.HTML object>"
            ]
          },
          "metadata": {},
          "output_type": "display_data"
        },
        {
          "data": {
            "text/html": [
              "Finishing previous runs because reinit is set to 'default'."
            ],
            "text/plain": [
              "<IPython.core.display.HTML object>"
            ]
          },
          "metadata": {},
          "output_type": "display_data"
        },
        {
          "name": "stderr",
          "output_type": "stream",
          "text": [
            "\u001b[34m\u001b[1mwandb\u001b[0m: \u001b[32m\u001b[41mERROR\u001b[0m The nbformat package was not found. It is required to save notebook history.\n"
          ]
        },
        {
          "data": {
            "text/html": [],
            "text/plain": [
              "<IPython.core.display.HTML object>"
            ]
          },
          "metadata": {},
          "output_type": "display_data"
        },
        {
          "data": {
            "text/html": [
              " View run <strong style=\"color:#cdcd00\">sparkling-sweep-8</strong> at: <a href='https://wandb.ai/malthe-pabst-it-universitetet-i-k-benhavn/logistic_testing/runs/5m2ul372' target=\"_blank\">https://wandb.ai/malthe-pabst-it-universitetet-i-k-benhavn/logistic_testing/runs/5m2ul372</a><br> View project at: <a href='https://wandb.ai/malthe-pabst-it-universitetet-i-k-benhavn/logistic_testing' target=\"_blank\">https://wandb.ai/malthe-pabst-it-universitetet-i-k-benhavn/logistic_testing</a><br>Synced 5 W&B file(s), 0 media file(s), 0 artifact file(s) and 0 other file(s)"
            ],
            "text/plain": [
              "<IPython.core.display.HTML object>"
            ]
          },
          "metadata": {},
          "output_type": "display_data"
        },
        {
          "data": {
            "text/html": [
              "Find logs at: <code>.\\wandb\\run-20250827_113311-5m2ul372\\logs</code>"
            ],
            "text/plain": [
              "<IPython.core.display.HTML object>"
            ]
          },
          "metadata": {},
          "output_type": "display_data"
        },
        {
          "data": {
            "text/html": [
              "Tracking run with wandb version 0.21.1"
            ],
            "text/plain": [
              "<IPython.core.display.HTML object>"
            ]
          },
          "metadata": {},
          "output_type": "display_data"
        },
        {
          "data": {
            "text/html": [
              "Run data is saved locally in <code>c:\\Users\\nici9\\Documents\\University\\K\\Thesis\\New_Git\\Thesis_Neurodiversity\\notebooks\\eda\\wandb\\run-20250827_113312-5m2ul372</code>"
            ],
            "text/plain": [
              "<IPython.core.display.HTML object>"
            ]
          },
          "metadata": {},
          "output_type": "display_data"
        },
        {
          "data": {
            "text/html": [
              "Syncing run <strong><a href='https://wandb.ai/malthe-pabst-it-universitetet-i-k-benhavn/logistic_testing/runs/5m2ul372' target=\"_blank\">sparkling-sweep-8</a></strong> to <a href='https://wandb.ai/malthe-pabst-it-universitetet-i-k-benhavn/logistic_testing' target=\"_blank\">Weights & Biases</a> (<a href='https://wandb.me/developer-guide' target=\"_blank\">docs</a>)<br>Sweep page: <a href='https://wandb.ai/malthe-pabst-it-universitetet-i-k-benhavn/logistic_testing/sweeps/8kuujfk2' target=\"_blank\">https://wandb.ai/malthe-pabst-it-universitetet-i-k-benhavn/logistic_testing/sweeps/8kuujfk2</a>"
            ],
            "text/plain": [
              "<IPython.core.display.HTML object>"
            ]
          },
          "metadata": {},
          "output_type": "display_data"
        },
        {
          "data": {
            "text/html": [
              " View project at <a href='https://wandb.ai/malthe-pabst-it-universitetet-i-k-benhavn/logistic_testing' target=\"_blank\">https://wandb.ai/malthe-pabst-it-universitetet-i-k-benhavn/logistic_testing</a>"
            ],
            "text/plain": [
              "<IPython.core.display.HTML object>"
            ]
          },
          "metadata": {},
          "output_type": "display_data"
        },
        {
          "data": {
            "text/html": [
              " View sweep at <a href='https://wandb.ai/malthe-pabst-it-universitetet-i-k-benhavn/logistic_testing/sweeps/8kuujfk2' target=\"_blank\">https://wandb.ai/malthe-pabst-it-universitetet-i-k-benhavn/logistic_testing/sweeps/8kuujfk2</a>"
            ],
            "text/plain": [
              "<IPython.core.display.HTML object>"
            ]
          },
          "metadata": {},
          "output_type": "display_data"
        },
        {
          "data": {
            "text/html": [
              " View run at <a href='https://wandb.ai/malthe-pabst-it-universitetet-i-k-benhavn/logistic_testing/runs/5m2ul372' target=\"_blank\">https://wandb.ai/malthe-pabst-it-universitetet-i-k-benhavn/logistic_testing/runs/5m2ul372</a>"
            ],
            "text/plain": [
              "<IPython.core.display.HTML object>"
            ]
          },
          "metadata": {},
          "output_type": "display_data"
        },
        {
          "name": "stderr",
          "output_type": "stream",
          "text": [
            "\u001b[34m\u001b[1mwandb\u001b[0m: \n",
            "\u001b[34m\u001b[1mwandb\u001b[0m: Plotting Random_uniform.\n",
            "\u001b[34m\u001b[1mwandb\u001b[0m: Logged feature importances.\n"
          ]
        },
        {
          "name": "stdout",
          "output_type": "stream",
          "text": [
            "1.3862943611198906 1.3862943611198906\n"
          ]
        },
        {
          "name": "stderr",
          "output_type": "stream",
          "text": [
            "\u001b[34m\u001b[1mwandb\u001b[0m: Logged confusion matrix.\n",
            "\u001b[34m\u001b[1mwandb\u001b[0m: Logged summary metrics.\n",
            "\u001b[34m\u001b[1mwandb\u001b[0m: Logged class proportions.\n",
            "\u001b[34m\u001b[1mwandb\u001b[0m: Logged calibration curve.\n",
            "\u001b[34m\u001b[1mwandb\u001b[0m: Logged roc curve.\n",
            "\u001b[34m\u001b[1mwandb\u001b[0m: Logged precision-recall curve.\n"
          ]
        },
        {
          "data": {
            "text/html": [],
            "text/plain": [
              "<IPython.core.display.HTML object>"
            ]
          },
          "metadata": {},
          "output_type": "display_data"
        },
        {
          "data": {
            "text/html": [
              "<br>    <style><br>        .wandb-row {<br>            display: flex;<br>            flex-direction: row;<br>            flex-wrap: wrap;<br>            justify-content: flex-start;<br>            width: 100%;<br>        }<br>        .wandb-col {<br>            display: flex;<br>            flex-direction: column;<br>            flex-basis: 100%;<br>            flex: 1;<br>            padding: 10px;<br>        }<br>    </style><br><div class=\"wandb-row\"><div class=\"wandb-col\"><h3>Run history:</h3><br/><table class=\"wandb\"><tr><td>f1_score</td><td>▁</td></tr><tr><td>train_loss</td><td>▁</td></tr><tr><td>val_loss</td><td>▁</td></tr></table><br/></div><div class=\"wandb-col\"><h3>Run summary:</h3><br/><table class=\"wandb\"><tr><td>f1_score</td><td>0.32439</td></tr><tr><td>train_loss</td><td>1.38629</td></tr><tr><td>val_loss</td><td>1.38629</td></tr></table><br/></div></div>"
            ],
            "text/plain": [
              "<IPython.core.display.HTML object>"
            ]
          },
          "metadata": {},
          "output_type": "display_data"
        },
        {
          "data": {
            "text/html": [
              " View run <strong style=\"color:#cdcd00\">sparkling-sweep-8</strong> at: <a href='https://wandb.ai/malthe-pabst-it-universitetet-i-k-benhavn/logistic_testing/runs/5m2ul372' target=\"_blank\">https://wandb.ai/malthe-pabst-it-universitetet-i-k-benhavn/logistic_testing/runs/5m2ul372</a><br> View project at: <a href='https://wandb.ai/malthe-pabst-it-universitetet-i-k-benhavn/logistic_testing' target=\"_blank\">https://wandb.ai/malthe-pabst-it-universitetet-i-k-benhavn/logistic_testing</a><br>Synced 5 W&B file(s), 4 media file(s), 8 artifact file(s) and 0 other file(s)"
            ],
            "text/plain": [
              "<IPython.core.display.HTML object>"
            ]
          },
          "metadata": {},
          "output_type": "display_data"
        },
        {
          "data": {
            "text/html": [
              "Find logs at: <code>.\\wandb\\run-20250827_113312-5m2ul372\\logs</code>"
            ],
            "text/plain": [
              "<IPython.core.display.HTML object>"
            ]
          },
          "metadata": {},
          "output_type": "display_data"
        },
        {
          "name": "stderr",
          "output_type": "stream",
          "text": [
            "\u001b[34m\u001b[1mwandb\u001b[0m: Sweep Agent: Waiting for job.\n",
            "\u001b[34m\u001b[1mwandb\u001b[0m: Sweep Agent: Exiting.\n"
          ]
        }
      ],
      "source": [
        "wandb.agent(sweep_id = sweep_id, function=main)"
      ]
    }
  ],
  "metadata": {
    "colab": {
      "provenance": []
    },
    "kernelspec": {
      "display_name": "Python 3",
      "name": "python3"
    },
    "language_info": {
      "codemirror_mode": {
        "name": "ipython",
        "version": 3
      },
      "file_extension": ".py",
      "mimetype": "text/x-python",
      "name": "python",
      "nbconvert_exporter": "python",
      "pygments_lexer": "ipython3",
      "version": "3.13.2"
    }
  },
  "nbformat": 4,
  "nbformat_minor": 0
}
