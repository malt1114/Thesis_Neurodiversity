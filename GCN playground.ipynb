{
 "cells": [
  {
   "cell_type": "markdown",
   "id": "68b613d2",
   "metadata": {},
   "source": [
    "# Imports + settings"
   ]
  },
  {
   "cell_type": "code",
   "execution_count": 1,
   "id": "11afdf81",
   "metadata": {},
   "outputs": [],
   "source": [
    "#Python basic\n",
    "import os\n",
    "import math\n",
    "\n",
    "#Torch\n",
    "import torch\n",
    "import torch.nn.functional as F\n",
    "from torch_geometric import seed_everything\n",
    "from torch_geometric.loader import DataLoader\n",
    "from torch_geometric.utils import from_networkx\n",
    "from torch_geometric.nn import (GCNConv, aggr, \n",
    "                                global_mean_pool, \n",
    "                                global_max_pool, \n",
    "                                MessagePassing)\n",
    "\n",
    "#Other\n",
    "import networkx as nx\n",
    "from scripts.prepare_data import create_data_split\n",
    "import pandas as pd"
   ]
  },
  {
   "cell_type": "code",
   "execution_count": 2,
   "id": "99628760",
   "metadata": {},
   "outputs": [
    {
     "name": "stdout",
     "output_type": "stream",
     "text": [
      "Train size: 164, Test size: 36, Val size: 37\n",
      "Train size: 126, Test size: 28, Val size: 28\n",
      "Train size: 17, Test size: 3, Val size: 3\n",
      "Train size: 16, Test size: 4, Val size: 4\n",
      "Train size: 22, Test size: 4, Val size: 4\n",
      "Train size: 40, Test size: 8, Val size: 8\n",
      "Train size: 10, Test size: 2, Val size: 2\n",
      "Train size: 66, Test size: 14, Val size: 14\n"
     ]
    }
   ],
   "source": [
    "file_list = os.listdir('data.nosync/networks_multi')\n",
    "create_data_split(files = file_list, train_val_size=0.15)\n",
    "class_dict = {'TD': 0, 'ASD-ADHD':1, 'ASD':2, 'ADHD':3}"
   ]
  },
  {
   "cell_type": "code",
   "execution_count": 3,
   "id": "e747a24c",
   "metadata": {},
   "outputs": [],
   "source": [
    "def load_dataset(dataset:str):\n",
    "    file_list = pd.read_csv(f'data.nosync/networks_multi/{dataset}_set_files.csv')['file'].to_list()\n",
    "    data_list = []\n",
    "\n",
    "    for i in file_list:\n",
    "        network_class = i.split('_')[3]\n",
    "        G = nx.read_gml(f'data.nosync/networks_multi/{i}')\n",
    "        for e in G.edges():\n",
    "            u, v = e\n",
    "            for key, value in G[u][v].items():\n",
    "                G[u][v][key]['edge_features'] = max(value['edge_features']+1, 0) if not math.isnan(value['edge_features']) else 0\n",
    "        graph = from_networkx(G, group_node_attrs = 'node_features', group_edge_attrs='edge_features')\n",
    "        graph.y = class_dict[network_class]\n",
    "        data_list.append(graph)\n",
    "    return data_list"
   ]
  },
  {
   "cell_type": "code",
   "execution_count": 5,
   "id": "29229a99",
   "metadata": {},
   "outputs": [],
   "source": [
    "train = load_dataset(dataset='train')\n",
    "val = load_dataset(dataset='val')"
   ]
  },
  {
   "cell_type": "code",
   "execution_count": 6,
   "id": "10a9e0b5",
   "metadata": {},
   "outputs": [
    {
     "data": {
      "text/plain": [
       "(array([0, 1, 2, 3]), array([214,  27,  56, 164]))"
      ]
     },
     "execution_count": 6,
     "metadata": {},
     "output_type": "execute_result"
    }
   ],
   "source": [
    "import numpy as np\n",
    "from math import log\n",
    "classes = []\n",
    "for i in train:\n",
    "    classes.append(i.y)\n",
    "np.unique(classes, return_counts= True)"
   ]
  },
  {
   "cell_type": "code",
   "execution_count": 7,
   "id": "3b86ecf1",
   "metadata": {},
   "outputs": [
    {
     "name": "stdout",
     "output_type": "stream",
     "text": [
      "1.1461870854236984\n"
     ]
    }
   ],
   "source": [
    "#expected loss\n",
    "class_dict = {0:214, 1:27, 2:56, 3:164}\n",
    "total = len(classes)\n",
    "total_loss = 0\n",
    "for key, value in class_dict.items():\n",
    "    total_loss += (-(value/total)*log(value/total))\n",
    "print(total_loss)"
   ]
  },
  {
   "cell_type": "code",
   "execution_count": 9,
   "id": "3451f7aa",
   "metadata": {},
   "outputs": [
    {
     "name": "stdout",
     "output_type": "stream",
     "text": [
      "Epoch: 0, Train loss: 1.2887, Val loss: 1.2439\n",
      "Epoch: 1, Train loss: 1.23631, Val loss: 1.21179\n",
      "Epoch: 2, Train loss: 1.22288, Val loss: 1.19972\n",
      "Epoch: 3, Train loss: 1.17042, Val loss: 1.19048\n",
      "Epoch: 4, Train loss: 1.15512, Val loss: 1.1533\n",
      "Epoch: 10, Train loss: 1.15259, Val loss: 1.13113\n",
      "Epoch: 11, Train loss: 1.1391, Val loss: 1.12833\n",
      "Epoch: 14, Train loss: 1.13307, Val loss: 1.13215\n",
      "Epoch: 30, Train loss: 1.12015, Val loss: 1.14545\n",
      "Epoch: 41, Train loss: 1.11517, Val loss: 1.14923\n",
      "Epoch: 72, Train loss: 1.11184, Val loss: 1.12012\n",
      "Epoch: 91, Train loss: 1.10896, Val loss: 1.16049\n",
      "Epoch: 94, Train loss: 1.10355, Val loss: 1.15124\n"
     ]
    }
   ],
   "source": [
    "seed_everything(42)\n",
    "\n",
    "class MyConv(MessagePassing):\n",
    "    def __init__(self, in_, out_, agg_func):\n",
    "        super().__init__(agg_func)\n",
    "        self.conv = self.conv1 = GCNConv(in_, out_, \n",
    "                                         add_self_loops = True,\n",
    "                                         normalize = True)\n",
    "\n",
    "    def forward(self, x, edge_index, edge_weight):\n",
    "        x = self.conv(x, edge_index, edge_weight)\n",
    "        x = F.dropout(x, p=0.2, training=self.training)\n",
    "        x = F.relu(x)\n",
    "        return x\n",
    "\n",
    "class GCN(torch.nn.Module):\n",
    "    def __init__(self):\n",
    "        super().__init__()\n",
    "        self.conv1 = MyConv(16, 16, aggr.MultiAggregation(\n",
    "                                    ['mean', 'std']))\n",
    "        self.conv2 = MyConv(16, 16, aggr.MeanAggregation())\n",
    "        self.conv3 = MyConv(16, 16, aggr.MeanAggregation())\n",
    "        self.conv4 = MyConv(16, 8, aggr.MeanAggregation())\n",
    "        self.conv5 = MyConv(8, 4, aggr.MeanAggregation())\n",
    "\n",
    "    def after_each_layer(self, x):\n",
    "        x = F.relu(x)\n",
    "        x = F.dropout(x, training=self.training)\n",
    "        return x\n",
    "\n",
    "    def forward(self, data):\n",
    "        x, edge_index, edge_weight = data.x, data.edge_index, data.edge_attr.to(torch.float32)\n",
    "        batch = data.batch\n",
    "\n",
    "        x = self.conv1(x, edge_index, edge_weight)\n",
    "        #x = self.after_each_layer(x)\n",
    "        \n",
    "        x = self.conv2(x, edge_index, edge_weight)\n",
    "        #x = self.after_each_layer(x)\n",
    "        \n",
    "        x = self.conv3(x, edge_index, edge_weight)\n",
    "        #x = self.after_each_layer(x)\n",
    "        \n",
    "        x = self.conv4(x, edge_index, edge_weight)\n",
    "\n",
    "        x = self.conv5(x, edge_index, edge_weight)\n",
    "\n",
    "        #Get global value for network\n",
    "        x = global_max_pool(x, batch)\n",
    "        \n",
    "        return F.log_softmax(x, dim=1)\n",
    "    \n",
    "    def predict(self, inputs):\n",
    "        with torch.no_grad():\n",
    "            y = self.forward(inputs, train=False)\n",
    "            predictions = torch.argmax(y, dim=-1)  # Take the argmax \n",
    "            return predictions\n",
    "    \n",
    "device = torch.device('cuda' if torch.cuda.is_available() else 'cpu')\n",
    "model = GCN().to(device)\n",
    "optimizer = torch.optim.Adam(model.parameters(), lr=0.001)\n",
    "model.train()\n",
    "\n",
    "loader = DataLoader(train, batch_size=64, shuffle = True)\n",
    "val_loder = DataLoader(val, batch_size=64, shuffle = True)\n",
    "\n",
    "min_score = 10**6\n",
    "\n",
    "for epoch in range(100):\n",
    "    epoch_loss = 0\n",
    "    for batch in loader:\n",
    "        optimizer.zero_grad()\n",
    "        out = model(batch)\n",
    "        loss = F.nll_loss(out, batch.y)\n",
    "        loss.backward()\n",
    "        optimizer.step()\n",
    "        epoch_loss += loss\n",
    "\n",
    "    epoch_loss = epoch_loss/len(loader)\n",
    "    \n",
    "    if epoch_loss < min_score:\n",
    "        min_score = epoch_loss\n",
    "        \n",
    "        val_loss = 0.0\n",
    "        with torch.no_grad():  \n",
    "                for val_batch in val_loder:\n",
    "                    val_y = model.forward(val_batch)\n",
    "                    val_loss_batch = F.nll_loss(val_y, val_batch.y)\n",
    "                    val_loss += val_loss_batch\n",
    "                        \n",
    "        val_loss_avg = val_loss / len(val_loder)\n",
    "        print(f\"Epoch: {epoch}, Train loss: {round(min_score.item(), 5)}, Val loss: {round(val_loss_avg.item(), 5)}\")"
   ]
  },
  {
   "cell_type": "code",
   "execution_count": null,
   "id": "27af15ad",
   "metadata": {},
   "outputs": [],
   "source": []
  }
 ],
 "metadata": {
  "kernelspec": {
   "display_name": "thesis",
   "language": "python",
   "name": "python3"
  },
  "language_info": {
   "codemirror_mode": {
    "name": "ipython",
    "version": 3
   },
   "file_extension": ".py",
   "mimetype": "text/x-python",
   "name": "python",
   "nbconvert_exporter": "python",
   "pygments_lexer": "ipython3",
   "version": "3.12.9"
  }
 },
 "nbformat": 4,
 "nbformat_minor": 5
}
